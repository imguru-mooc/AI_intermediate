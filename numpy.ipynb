{
 "cells": [
  {
   "cell_type": "markdown",
   "metadata": {
    "id": "TfRdquslKbO3"
   },
   "source": [
    "# NumPy 데이터 로드"
   ]
  },
  {
   "cell_type": "markdown",
   "metadata": {
    "id": "-0tqX8qkXZEj"
   },
   "source": [
    "이 튜토리얼은 NumPy 배열에서 tf.data.Dataset으로 데이터를 로드하는 예제를 제공합니다.\n",
    "\n",
    "이 예제에서는 .npz 파일에서 MNIST 데이터세트를 로드합니다. 그러나 NumPy 배열의 소스는 중요하지 않습니다.\n"
   ]
  },
  {
   "cell_type": "markdown",
   "metadata": {
    "id": "-Ze5IBx9clLB"
   },
   "source": [
    "## 설정"
   ]
  },
  {
   "cell_type": "code",
   "execution_count": 8,
   "metadata": {
    "execution": {
     "iopub.execute_input": "2021-06-16T15:08:35.556694Z",
     "iopub.status.busy": "2021-06-16T15:08:35.556143Z",
     "iopub.status.idle": "2021-06-16T15:08:37.009126Z",
     "shell.execute_reply": "2021-06-16T15:08:37.008503Z"
    },
    "id": "k6J3JzK5NxQ6"
   },
   "outputs": [],
   "source": [
    "import numpy as np\n",
    "import tensorflow as tf"
   ]
  },
  {
   "cell_type": "markdown",
   "metadata": {},
   "source": [
    "### 넘파이 배열을 파일로 저장하기"
   ]
  },
  {
   "cell_type": "code",
   "execution_count": 11,
   "metadata": {},
   "outputs": [
    {
     "name": "stdout",
     "output_type": "stream",
     "text": [
      "[1 2 3 4 5]\n"
     ]
    }
   ],
   "source": [
    "a = np.array([1,2,3,4,5])\n",
    "np.save(\"a\", a)  # a.npy\n",
    "a = None\n",
    "a = np.load(\"a.npy\")\n",
    "print(a)"
   ]
  },
  {
   "cell_type": "markdown",
   "metadata": {
    "id": "G0yWiN8-cpDb"
   },
   "source": [
    "### .npz 파일에서 로드하기"
   ]
  },
  {
   "cell_type": "code",
   "execution_count": 12,
   "metadata": {
    "execution": {
     "iopub.execute_input": "2021-06-16T15:08:37.014091Z",
     "iopub.status.busy": "2021-06-16T15:08:37.013500Z",
     "iopub.status.idle": "2021-06-16T15:08:37.274497Z",
     "shell.execute_reply": "2021-06-16T15:08:37.273911Z"
    },
    "id": "GLHNrFM6RWoM"
   },
   "outputs": [],
   "source": [
    "DATA_URL = 'https://storage.googleapis.com/tensorflow/tf-keras-datasets/mnist.npz'\n",
    "\n",
    "path = tf.keras.utils.get_file('mnist.npz', DATA_URL)\n",
    "with np.load(path) as data:\n",
    "  train_examples = data['x_train']\n",
    "  train_labels = data['y_train']\n",
    "  test_examples = data['x_test']\n",
    "  test_labels = data['y_test']"
   ]
  },
  {
   "cell_type": "markdown",
   "metadata": {
    "id": "cCeCkvrDgCMM"
   },
   "source": [
    "## `tf.data.Dataset`를 사용하여 NumPy 배열 로드하기"
   ]
  },
  {
   "cell_type": "markdown",
   "metadata": {
    "id": "tslB0tJPgB-2"
   },
   "source": [
    "예제 배열과 레이블의 해당 배열이 있다고 가정하면, `tf.data.Dataset.from_tensor_slices`에 튜플로 두 배열을 전달하여 `tf.data.Dataset`을 만듭니다."
   ]
  },
  {
   "cell_type": "code",
   "execution_count": 13,
   "metadata": {
    "execution": {
     "iopub.execute_input": "2021-06-16T15:08:38.622894Z",
     "iopub.status.busy": "2021-06-16T15:08:38.622174Z",
     "iopub.status.idle": "2021-06-16T15:08:38.630592Z",
     "shell.execute_reply": "2021-06-16T15:08:38.630964Z"
    },
    "id": "QN_8wwc5R7Qm"
   },
   "outputs": [],
   "source": [
    "train_dataset = tf.data.Dataset.from_tensor_slices((train_examples, train_labels))\n",
    "test_dataset = tf.data.Dataset.from_tensor_slices((test_examples, test_labels))"
   ]
  },
  {
   "cell_type": "markdown",
   "metadata": {
    "id": "6Rco85bbkDfN"
   },
   "source": [
    "## 데이터세트 사용하기"
   ]
  },
  {
   "cell_type": "markdown",
   "metadata": {
    "id": "0dvl1uUukc4K"
   },
   "source": [
    "### 데이터세트 셔플 및 배치"
   ]
  },
  {
   "cell_type": "code",
   "execution_count": 14,
   "metadata": {
    "execution": {
     "iopub.execute_input": "2021-06-16T15:08:38.635546Z",
     "iopub.status.busy": "2021-06-16T15:08:38.634949Z",
     "iopub.status.idle": "2021-06-16T15:08:38.638723Z",
     "shell.execute_reply": "2021-06-16T15:08:38.638280Z"
    },
    "id": "GTXdRMPcSXZj"
   },
   "outputs": [],
   "source": [
    "BATCH_SIZE = 64\n",
    "SHUFFLE_BUFFER_SIZE = 100\n",
    "\n",
    "train_dataset = train_dataset.shuffle(SHUFFLE_BUFFER_SIZE).batch(BATCH_SIZE)\n",
    "test_dataset = test_dataset.batch(BATCH_SIZE)"
   ]
  },
  {
   "cell_type": "markdown",
   "metadata": {
    "id": "w69Jl8k6lilg"
   },
   "source": [
    "### 모델 빌드 및 훈련"
   ]
  },
  {
   "cell_type": "code",
   "execution_count": 15,
   "metadata": {
    "execution": {
     "iopub.execute_input": "2021-06-16T15:08:38.643372Z",
     "iopub.status.busy": "2021-06-16T15:08:38.642757Z",
     "iopub.status.idle": "2021-06-16T15:08:38.948133Z",
     "shell.execute_reply": "2021-06-16T15:08:38.948503Z"
    },
    "id": "Uhxr8py4DkDN"
   },
   "outputs": [],
   "source": [
    "model = tf.keras.Sequential([\n",
    "    tf.keras.layers.Flatten(input_shape=(28, 28)),\n",
    "    tf.keras.layers.Dense(128, activation='relu'),\n",
    "    tf.keras.layers.Dense(10)\n",
    "])\n",
    "\n",
    "model.compile(optimizer=tf.keras.optimizers.RMSprop(),\n",
    "              loss=tf.keras.losses.SparseCategoricalCrossentropy(from_logits=True),\n",
    "              metrics=['sparse_categorical_accuracy'])"
   ]
  },
  {
   "cell_type": "code",
   "execution_count": 16,
   "metadata": {
    "execution": {
     "iopub.execute_input": "2021-06-16T15:08:38.952749Z",
     "iopub.status.busy": "2021-06-16T15:08:38.952172Z",
     "iopub.status.idle": "2021-06-16T15:08:58.433220Z",
     "shell.execute_reply": "2021-06-16T15:08:58.432735Z"
    },
    "id": "XLDzlPGgOHBx"
   },
   "outputs": [
    {
     "name": "stdout",
     "output_type": "stream",
     "text": [
      "Epoch 1/10\n",
      "938/938 [==============================] - 6s 6ms/step - loss: 9.1093 - sparse_categorical_accuracy: 0.8264\n",
      "Epoch 2/10\n",
      "938/938 [==============================] - 3s 4ms/step - loss: 0.5871 - sparse_categorical_accuracy: 0.9214\n",
      "Epoch 3/10\n",
      "938/938 [==============================] - 3s 3ms/step - loss: 0.4328 - sparse_categorical_accuracy: 0.9423\n",
      "Epoch 4/10\n",
      "938/938 [==============================] - 4s 5ms/step - loss: 0.3582 - sparse_categorical_accuracy: 0.9515\n",
      "Epoch 5/10\n",
      "938/938 [==============================] - 3s 4ms/step - loss: 0.3237 - sparse_categorical_accuracy: 0.9582A: 4s - loss: 0.3513 - sp\n",
      "Epoch 6/10\n",
      "938/938 [==============================] - 3s 3ms/step - loss: 0.2859 - sparse_categorical_accuracy: 0.9618\n",
      "Epoch 7/10\n",
      "938/938 [==============================] - 5s 5ms/step - loss: 0.2428 - sparse_categorical_accuracy: 0.9658\n",
      "Epoch 8/10\n",
      "938/938 [==============================] - 5s 6ms/step - loss: 0.2509 - sparse_categorical_accuracy: 0.9700\n",
      "Epoch 9/10\n",
      "938/938 [==============================] - 4s 5ms/step - loss: 0.2302 - sparse_categorical_accuracy: 0.9711\n",
      "Epoch 10/10\n",
      "938/938 [==============================] - 6s 7ms/step - loss: 0.2081 - sparse_categorical_accuracy: 0.9739\n"
     ]
    },
    {
     "data": {
      "text/plain": [
       "<tensorflow.python.keras.callbacks.History at 0x1a55d0af6a0>"
      ]
     },
     "execution_count": 16,
     "metadata": {},
     "output_type": "execute_result"
    }
   ],
   "source": [
    "model.fit(train_dataset, epochs=10)"
   ]
  },
  {
   "cell_type": "code",
   "execution_count": 7,
   "metadata": {
    "execution": {
     "iopub.execute_input": "2021-06-16T15:08:58.437353Z",
     "iopub.status.busy": "2021-06-16T15:08:58.436697Z",
     "iopub.status.idle": "2021-06-16T15:08:58.784660Z",
     "shell.execute_reply": "2021-06-16T15:08:58.785024Z"
    },
    "id": "2q82yN8mmKIE"
   },
   "outputs": [
    {
     "name": "stdout",
     "output_type": "stream",
     "text": [
      "157/157 [==============================] - 1s 3ms/step - loss: 0.6077 - sparse_categorical_accuracy: 0.9586\n"
     ]
    },
    {
     "data": {
      "text/plain": [
       "[0.607664942741394, 0.9585999846458435]"
      ]
     },
     "execution_count": 7,
     "metadata": {},
     "output_type": "execute_result"
    }
   ],
   "source": [
    "model.evaluate(test_dataset)"
   ]
  },
  {
   "cell_type": "code",
   "execution_count": null,
   "metadata": {},
   "outputs": [],
   "source": []
  }
 ],
 "metadata": {
  "colab": {
   "collapsed_sections": [],
   "name": "numpy.ipynb",
   "toc_visible": true
  },
  "kernelspec": {
   "display_name": "Python 3",
   "language": "python",
   "name": "python3"
  },
  "language_info": {
   "codemirror_mode": {
    "name": "ipython",
    "version": 3
   },
   "file_extension": ".py",
   "mimetype": "text/x-python",
   "name": "python",
   "nbconvert_exporter": "python",
   "pygments_lexer": "ipython3",
   "version": "3.8.8"
  }
 },
 "nbformat": 4,
 "nbformat_minor": 1
}
