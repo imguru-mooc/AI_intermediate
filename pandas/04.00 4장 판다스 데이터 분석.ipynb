{
 "cells": [
  {
   "cell_type": "markdown",
   "metadata": {},
   "source": [
    "# 4장 판다스 데이터 분석"
   ]
  },
  {
   "cell_type": "markdown",
   "metadata": {},
   "source": [
    "이 장에서는 판다스(Pandas) 패키지를 사용하여 데이터를 분석하는 방법을 공부한다. 판다스 패키지는 파이썬으로 데이터를 다룰 때 빠질 수 없는 중요한 패키지다. 판다스 패키지를 이용하면 다양한 방법으로 데이터를 조작할 수 있다."
   ]
  },
  {
   "cell_type": "markdown",
   "metadata": {},
   "source": [
    "## 학습 목표"
   ]
  },
  {
   "cell_type": "markdown",
   "metadata": {},
   "source": [
    "* 시리즈와 데이터프레임을 만들 수 있다.\n",
    "* 판다스를 이용하여 csv 파일을 읽고 쓸 수 있다.\n",
    "* 시리즈와 데이터프레임에서 원하는 데이터를 읽고 갱신하는 방법을 익힌다.\n",
    "* 시리즈와 데이터프레임의 데이터를 조작하는 법을 공부한다.\n",
    "* 멀티 인덱스와 이를 다루는 방법을 학습한다.\n",
    "* 둘 이상의 데이터프레임을 하나로 합치는 법을 익힌다.\n",
    "* 데이터를 그룹으로 나누어 분석하고 피봇테이블을 만드는 방법을 공부한다."
   ]
  },
  {
   "cell_type": "code",
   "execution_count": null,
   "metadata": {},
   "outputs": [],
   "source": []
  }
 ],
 "metadata": {
  "kernelspec": {
   "display_name": "Python 3",
   "language": "python",
   "name": "python3"
  },
  "language_info": {
   "codemirror_mode": {
    "name": "ipython",
    "version": 3
   },
   "file_extension": ".py",
   "mimetype": "text/x-python",
   "name": "python",
   "nbconvert_exporter": "python",
   "pygments_lexer": "ipython3",
   "version": "3.8.3"
  }
 },
 "nbformat": 4,
 "nbformat_minor": 4
}
