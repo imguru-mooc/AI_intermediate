{
 "cells": [
  {
   "cell_type": "markdown",
   "metadata": {},
   "source": [
    "## 동적 웹 페이지 1"
   ]
  },
  {
   "cell_type": "code",
   "execution_count": null,
   "metadata": {},
   "outputs": [],
   "source": [
    "!pip install selenium --user"
   ]
  },
  {
   "cell_type": "code",
   "execution_count": 12,
   "metadata": {},
   "outputs": [
    {
     "name": "stderr",
     "output_type": "stream",
     "text": [
      "<ipython-input-12-d4deaa9a2d02>:8: DeprecationWarning: find_element_by_* commands are deprecated. Please use find_element() instead\n",
      "  login = driver.find_element_by_css_selector('#danawa_menubar > div.main-header__user > div:nth-child(5) > a')\n"
     ]
    },
    {
     "name": "stdout",
     "output_type": "stream",
     "text": [
      "HTML 요소:  <selenium.webdriver.remote.webelement.WebElement (session=\"ef14102c45803084bd278e104997901b\", element=\"4c99683a-3e86-4fc1-9a09-b4f3ec88451f\")>\n",
      "태그 이름:  a\n",
      "문자열:  로그인\n",
      "href 속성:  https://auth.danawa.com/login?url=http%3A%2F%2Fwww.danawa.com%2F\n"
     ]
    },
    {
     "name": "stderr",
     "output_type": "stream",
     "text": [
      "<ipython-input-12-d4deaa9a2d02>:20: DeprecationWarning: find_element_by_* commands are deprecated. Please use find_element() instead\n",
      "  driver.find_element_by_id('danawa-member-login-input-id').send_keys(my_id)\n",
      "<ipython-input-12-d4deaa9a2d02>:22: DeprecationWarning: find_element_by_* commands are deprecated. Please use find_element() instead\n",
      "  driver.find_element_by_name('password').send_keys(my_pw)\n",
      "<ipython-input-12-d4deaa9a2d02>:24: DeprecationWarning: find_element_by_* commands are deprecated. Please use find_element() instead\n",
      "  driver.find_element_by_css_selector('button.btn_login').click()\n"
     ]
    }
   ],
   "source": [
    "from selenium import webdriver \n",
    "\n",
    "driver = webdriver.Chrome(\"chromedriver\")    #  크롬 브라우저 버전 : 95.0.4638.69\n",
    "driver.implicitly_wait(3)                    #  버전에 맞는 드라이버를 현재 디렉토리에 설치 \n",
    "driver.get(\"https://www.danawa.com/\")        #  https://chromedriver.chromium.org/downloads\n",
    "\n",
    "\n",
    "login = driver.find_element_by_css_selector('#danawa_menubar > div.main-header__user > div:nth-child(5) > a')\n",
    "print(\"HTML 요소: \", login)\n",
    "print(\"태그 이름: \", login.tag_name)\n",
    "print(\"문자열: \", login.text)\n",
    "print(\"href 속성: \", login.get_attribute('href'))\n",
    "\n",
    "login.click()\n",
    "driver.implicitly_wait(3)\n",
    "\n",
    "my_id = \"----본인 아이디 입력하세요----\"\n",
    "my_pw = \"----본인 패스워드 입력하세요----\"\n",
    "\n",
    "driver.find_element_by_id('danawa-member-login-input-id').send_keys(my_id)\n",
    "driver.implicitly_wait(2)\n",
    "driver.find_element_by_name('password').send_keys(my_pw)\n",
    "driver.implicitly_wait(2)\n",
    "driver.find_element_by_css_selector('button.btn_login').click()"
   ]
  },
  {
   "cell_type": "markdown",
   "metadata": {},
   "source": [
    "## 동적 웹 페이지 2"
   ]
  },
  {
   "cell_type": "code",
   "execution_count": 18,
   "metadata": {},
   "outputs": [
    {
     "name": "stderr",
     "output_type": "stream",
     "text": [
      "<ipython-input-18-acd8413943c6>:7: DeprecationWarning: find_element_by_* commands are deprecated. Please use find_element() instead\n",
      "  login = driver.find_element_by_css_selector('#danawa_menubar > div.main-header__user > div:nth-child(5) > a')\n",
      "<ipython-input-18-acd8413943c6>:16: DeprecationWarning: find_element_by_* commands are deprecated. Please use find_element() instead\n",
      "  driver.find_element_by_id('danawa-member-login-input-id').send_keys(my_id)\n",
      "<ipython-input-18-acd8413943c6>:18: DeprecationWarning: find_element_by_* commands are deprecated. Please use find_element() instead\n",
      "  driver.find_element_by_name('password').send_keys(my_pw)\n",
      "<ipython-input-18-acd8413943c6>:20: DeprecationWarning: find_element_by_* commands are deprecated. Please use find_element() instead\n",
      "  driver.find_element_by_css_selector('button.btn_login').click()\n",
      "<ipython-input-18-acd8413943c6>:23: DeprecationWarning: find_element_by_* commands are deprecated. Please use find_element() instead\n",
      "  wishlist = driver.find_element_by_css_selector('#danawa_menubar > div.main-header__user > div:nth-child(4) > a').click()\n"
     ]
    },
    {
     "name": "stdout",
     "output_type": "stream",
     "text": [
      "APPLE 2020 맥북에어 MGN93KH/A (8GB, SSD 256GB)\n",
      "\n",
      "1,130,800원\n",
      "\t\t\t\t\t\t\t\n",
      "http://prod.danawa.com/info/?pcode=12660506\n",
      "\n",
      "\n",
      "APPLE 2020 맥북에어 MGN63KH/A (8GB, SSD 256GB)\n",
      "\n",
      "1,117,000원\n",
      "\t\t\t\t\t\t\t\n",
      "http://prod.danawa.com/info/?pcode=12660491\n",
      "\n",
      "\n",
      "COLORFUL iGAME 지포스 RTX 3070 Ultra OC D6 8GB White\n",
      "\n",
      "1,880,000원\n",
      "\t\t\t\t\t\t\t\n",
      "http://prod.danawa.com/info/?pcode=12613199\n",
      "\n",
      "\n",
      "이엠텍 지포스 GTX 1660 SUPER STORM X Dual OC D6 6GB\n",
      "\n",
      "987,000원\n",
      "\t\t\t\t\t\t\t\n",
      "http://prod.danawa.com/info/?pcode=9790980\n",
      "\n",
      "\n",
      "삼성전자 970 EVO M.2 NVMe (500GB)\n",
      "\n",
      "113,980원\n",
      "\t\t\t\t\t\t\t\n",
      "http://prod.danawa.com/info/?pcode=6095784\n",
      "\n",
      "\n",
      "삼성전자 860 EVO (500GB)\n",
      "\n",
      "76,940원\n",
      "\t\t\t\t\t\t\t\n",
      "http://prod.danawa.com/info/?pcode=5834210\n",
      "\n",
      "\n"
     ]
    }
   ],
   "source": [
    "from selenium import webdriver \n",
    "\n",
    "driver = webdriver.Chrome(\"chromedriver\") \n",
    "driver.implicitly_wait(3)\n",
    "driver.get(\"https://www.danawa.com/\") \n",
    "\n",
    "login = driver.find_element_by_css_selector('#danawa_menubar > div.main-header__user > div:nth-child(5) > a')\n",
    "login.click()\n",
    "driver.implicitly_wait(3)\n",
    "\n",
    "my_id = \"----본인 아이디 입력하세요----\"\n",
    "my_pw = \"----본인 패스워드 입력하세요----\"\n",
    "\n",
    "driver.find_element_by_id('danawa-member-login-input-id').send_keys(my_id)\n",
    "driver.implicitly_wait(2)\n",
    "driver.find_element_by_name('password').send_keys(my_pw)\n",
    "driver.implicitly_wait(2)\n",
    "driver.find_element_by_css_selector('button.btn_login').click()\n",
    "driver.implicitly_wait(2)\n",
    "\n",
    "wishlist = driver.find_element_by_css_selector('#danawa_menubar > div.main-header__user > div:nth-child(4) > a').click()\n",
    "driver.implicitly_wait(2)\n",
    "html_src = driver.page_source\n",
    "driver.close()\n",
    "# print(html_src[:])\n",
    "\n",
    "from bs4 import BeautifulSoup\n",
    "import re\n",
    "soup = BeautifulSoup(html_src, 'html.parser')\n",
    "\n",
    "wish_table = soup.select('table[class=\"tbl wish_tbl\"]')[0]\n",
    "wish_items = wish_table.select('tbody tr')\n",
    "\n",
    "for item in wish_items:\n",
    "    title = item.find('div', {'class':'tit'}).text\n",
    "    price = item.find('span', {'class':'price'}).text\n",
    "    link = item.find('a', href=re.compile('prod.danawa.com/info/')).get('href')\n",
    "    print(title)\n",
    "    print(price)\n",
    "    print(link)\n",
    "    print(\"\\n\")"
   ]
  },
  {
   "cell_type": "markdown",
   "metadata": {},
   "source": [
    "## 한국은행 경제통계시스템 통계지표 활용하기 1"
   ]
  },
  {
   "cell_type": "code",
   "execution_count": 19,
   "metadata": {},
   "outputs": [
    {
     "name": "stderr",
     "output_type": "stream",
     "text": [
      "<ipython-input-19-05a9b2a3e3a5>:11: DeprecationWarning: find_element_by_* commands are deprecated. Please use find_element() instead\n",
      "  excel_download = driver.find_element_by_css_selector('img[alt=\"download\"]')\n"
     ]
    },
    {
     "name": "stdout",
     "output_type": "stream",
     "text": [
      "파일 다운로드 실행...\n"
     ]
    }
   ],
   "source": [
    "from selenium import webdriver \n",
    "import time\n",
    "\n",
    "def download_bok_statistics():\n",
    "\n",
    "    driver = webdriver.Chrome(\"chromedriver\") \n",
    "    driver.implicitly_wait(3)\n",
    "    driver.get(\"http://ecos.bok.or.kr/jsp/vis/keystat/#/key\") \n",
    "    \n",
    "    \n",
    "    excel_download = driver.find_element_by_css_selector('img[alt=\"download\"]')\n",
    "    driver.implicitly_wait(3)\n",
    "    \n",
    "    excel_download.click()\n",
    "    time.sleep(5)\n",
    "    \n",
    "    driver.close()\n",
    "    print(\"파일 다운로드 실행...\")\n",
    "\n",
    "    return None\n",
    "\n",
    "download_bok_statistics()"
   ]
  },
  {
   "cell_type": "markdown",
   "metadata": {},
   "source": [
    "## 한국은행 경제통계시스템 통계지표 활용하기 2"
   ]
  },
  {
   "cell_type": "code",
   "execution_count": 33,
   "metadata": {},
   "outputs": [
    {
     "name": "stderr",
     "output_type": "stream",
     "text": [
      "<ipython-input-33-a07e9bb37554>:42: DeprecationWarning: find_element_by_* commands are deprecated. Please use find_element() instead\n",
      "  excel_download = driver.find_element_by_css_selector('body > div.HSwrap.ng-scope > div.HScontainer > div > div > div:nth-child(3) > div > div:nth-child(3) > div.HSthemeA > table > tbody > tr:nth-child(4) > th > span > a')\n"
     ]
    },
    {
     "name": "stdout",
     "output_type": "stream",
     "text": [
      "(['2014', '2015', '2016', '2017', '2018', '2019', '2020', '2021.3', '2021.4', '2021.5', '2021.6', '2021.7', '2021.8', '2021.9', '2021.10.22', '2021.10.25', '2021.10.26', '2021.10.27', '2021.10.28', '2021.10.29'], ['2.49', '1.76', '1.49', '1.44', '1.68', '1.69', '0.92', '0.75', '0.74', '0.68', '0.66', '0.69', '0.77', '0.98', '1.09', '1.09', '1.09', '1.10', '1.10', '1.12'], ['-0.23', '-0.73', '-0.27', '-0.05', '0.24', '0.01', '-0.77', '0.02', '-0.01', '-0.06', '-0.02', '0.03', '0.08', '0.21', '0.00', '0.00', '0.00', '0.01', '0.00', '0.02'])\n"
     ]
    }
   ],
   "source": [
    "from selenium import webdriver \n",
    "from bs4 import BeautifulSoup\n",
    "import time\n",
    "\n",
    "def download_bok_statistics_by_keyword():\n",
    "    \n",
    "    item_found = 0              \n",
    "    while not item_found:\n",
    "        \n",
    "#         keyword = \"\"       \n",
    "#         while len(keyword) == 0:\n",
    "#             keyword = str(input(\"검색할 항목을 입력하세요: \"))\n",
    "        \n",
    "        driver = webdriver.Chrome(\"chromedriver\")\n",
    "        driver.implicitly_wait(3)\n",
    "        driver.get(\"http://ecos.bok.or.kr/jsp/vis/keystat/#/key\") \n",
    "        time.sleep(5)      \n",
    "        item_found=1\n",
    "                   \n",
    "#         items1 = driver.find_elements_by_css_selector('a[class=\"ng-binding\"]')\n",
    "#         items2 = driver.find_elements_by_css_selector('a[class=\"a-c1-list ng-binding\"]')\n",
    "#         items3 = driver.find_elements_by_css_selector('a[class=\"a-c4-list ng-binding\"]')\n",
    "#         driver.implicitly_wait(3)\n",
    "\n",
    "#         items = items1[1:] + items2 + items3    \n",
    "        \n",
    "#         for idx, item in enumerate(items):\n",
    "#             if keyword in item.text:\n",
    "#                 print(\"검색어 '%s'에 매칭되는 '%s' 통계지표를 검색 중...\" % (keyword, item.text))\n",
    "#                 item.click()\n",
    "#                 item_found = 1\n",
    "#                 time.sleep(5)\n",
    "#                 break\n",
    "#             elif idx == (len(items) - 1):\n",
    "#                 print(\"검색어 '%s'에 대한 통계지표가 존재하지 않습니다...\" % keyword)\n",
    "#                 driver.close()\n",
    "#                 continue\n",
    "#             else:\n",
    "#                 pass\n",
    "            \n",
    "    \n",
    "    excel_download = driver.find_element_by_css_selector('body > div.HSwrap.ng-scope > div.HScontainer > div > div > div:nth-child(3) > div > div:nth-child(3) > div.HSthemeA > table > tbody > tr:nth-child(4) > th > span > a')\n",
    "    excel_download.click()\n",
    "    driver.implicitly_wait(3)\n",
    "    time.sleep(5)   \n",
    "    \n",
    "    html_src = driver.page_source \n",
    "    soup = BeautifulSoup(html_src, 'html.parser')\n",
    "    driver.close()\n",
    "  \n",
    "#     print(html_src)\n",
    "#     table_items = soup.select(\"body > div.HSwrap.ng-scope > div.HScontainer > div > div > div.HSw75p > div > div > div.HSchartlist > table > tbody\")\n",
    "    table_items = soup.find_all('td', {'class':'ng-binding'})\n",
    "#     print(table_items[0])\n",
    "    date = [t.text for i, t in enumerate(table_items) if i % 3 == 0]\n",
    "    value = [t.text for i, t in enumerate(table_items) if i % 3 == 1]    \n",
    "    change = [t.text for i, t in enumerate(table_items) if i % 3 == 2]  \n",
    "#     print(date)\n",
    "    \n",
    "    result_file = open('bok_statistics_cd.csv' , 'w')\n",
    "    \n",
    "    for i in range(len(date)):\n",
    "        result_file.write(\"%s, %s, %s\" % (date[i], value[i], change[i]))\n",
    "        result_file.write('\\n')\n",
    "    \n",
    "    result_file.close()\n",
    "#     print(\"키워드 '%s'에 대한 통계지표를 저장하였습니다.\" % keyword)\n",
    "    \n",
    "    return date, value, change\n",
    "\n",
    "result = download_bok_statistics_by_keyword()\n",
    "print(result)"
   ]
  },
  {
   "cell_type": "code",
   "execution_count": null,
   "metadata": {},
   "outputs": [],
   "source": []
  }
 ],
 "metadata": {
  "kernelspec": {
   "display_name": "Python 3",
   "language": "python",
   "name": "python3"
  },
  "language_info": {
   "codemirror_mode": {
    "name": "ipython",
    "version": 3
   },
   "file_extension": ".py",
   "mimetype": "text/x-python",
   "name": "python",
   "nbconvert_exporter": "python",
   "pygments_lexer": "ipython3",
   "version": "3.8.8"
  }
 },
 "nbformat": 4,
 "nbformat_minor": 4
}
