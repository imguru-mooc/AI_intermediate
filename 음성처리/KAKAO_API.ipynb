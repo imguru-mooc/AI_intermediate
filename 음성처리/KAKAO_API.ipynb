{
 "cells": [
  {
   "cell_type": "markdown",
   "id": "b4f338e0",
   "metadata": {},
   "source": [
    "#### STT 테스트"
   ]
  },
  {
   "cell_type": "code",
   "execution_count": 19,
   "id": "144301fe",
   "metadata": {},
   "outputs": [
    {
     "name": "stdout",
     "output_type": "stream",
     "text": [
      "------newtoneguXZzo8uCcwUCjK5\r\n",
      "Content-Type: application/json; charset=UTF-8\r\n",
      "\r\n",
      "{\"type\":\"beginPointDetection\",\"value\":\"BPD\"}\r\n",
      "------newtoneguXZzo8uCcwUCjK5\r\n",
      "Content-Type: application/json; charset=UTF-8\r\n",
      "\r\n",
      "{\"type\":\"partialResult\",\"value\":\"헤이\"}\r\n",
      "------newtoneguXZzo8uCcwUCjK5\r\n",
      "Content-Type: application/json; charset=UTF-8\r\n",
      "\r\n",
      "{\"type\":\"partialResult\",\"value\":\"헤이 카카오\"}\r\n",
      "------newtoneguXZzo8uCcwUCjK5\r\n",
      "Content-Type: application/json; charset=UTF-8\r\n",
      "\r\n",
      "{\"type\":\"endPointDetection\",\"value\":\"EPD\"}\r\n",
      "------newtoneguXZzo8uCcwUCjK5\r\n",
      "Content-Type: application/json; charset=UTF-8\r\n",
      "Speech-Length: 2\r\n",
      "\r\n",
      "{\"type\":\"finalResult\",\"value\":\"헤이 카카오\",\"nBest\":[{\"value\":\"헤이 카카오\",\"score\":99}],\"voiceProfile\":{\"registered\":false,\"authenticated\":false},\"durationMS\":2880,\"qmarkScore\":0,\"gender\":0}\r\n",
      "------newtoneguXZzo8uCcwUCjK5--\r\n",
      "\n"
     ]
    }
   ],
   "source": [
    "import requests\n",
    "import json\n",
    "kakao_speech_url = \"https://kakaoi-newtone-openapi.kakao.com/v1/recognize\"\n",
    "\n",
    "rest_api_key = '954052c06ac962dca9151a748fdd9289'\n",
    "\n",
    "headers = {\n",
    "    \"Content-Type\": \"application/octet-stream\",\n",
    "    \"X-DSS-Service\": \"DICTATION\",\n",
    "    \"Authorization\": \"KakaoAK \" + rest_api_key,\n",
    "}\n",
    "\n",
    "with open('heykakao.wav', 'rb') as fp:\n",
    "    audio = fp.read()\n",
    "\n",
    "res = requests.post(kakao_speech_url, headers=headers, data=audio)\n",
    "print(res.text)"
   ]
  },
  {
   "cell_type": "markdown",
   "id": "b0d9e9ea",
   "metadata": {},
   "source": [
    "#### finalResult 추출 방법"
   ]
  },
  {
   "cell_type": "code",
   "execution_count": 13,
   "id": "c8320599",
   "metadata": {},
   "outputs": [
    {
     "name": "stdout",
     "output_type": "stream",
     "text": [
      "{'type': 'finalResult', 'value': '헤이 카카오', 'nBest': [{'value': '헤이 카카오', 'score': 99}], 'voiceProfile': {'registered': False, 'authenticated': False}, 'durationMS': 2880, 'qmarkScore': 0, 'gender': 0}\n",
      "헤이 카카오\n"
     ]
    }
   ],
   "source": [
    "result_json_string = res.text[res.text.index('{\"type\":\"finalResult\"'):res.text.rindex('}')+1]\n",
    "result = json.loads(result_json_string)\n",
    "print(result)\n",
    "print(result['value'])"
   ]
  },
  {
   "cell_type": "markdown",
   "id": "4ec5496d",
   "metadata": {},
   "source": [
    "#### TTS 테스트"
   ]
  },
  {
   "cell_type": "code",
   "execution_count": 22,
   "id": "7dab2e77",
   "metadata": {},
   "outputs": [],
   "source": [
    "import os, requests, json, wave\n",
    "url = \"https://kakaoi-newtone-openapi.kakao.com/v1/synthesize\"\n",
    "key = '954052c06ac962dca9151a748fdd9289'\n",
    "headers = {\n",
    "    \"Content-Type\": \"application/xml\",\n",
    "    \"Authorization\": \"KakaoAK \" + key,\n",
    "}\n",
    "\n",
    "data = \"<speak>카카오 테스트중 입니다.</speak>\".encode('utf-8').decode('latin1')\n",
    "res = requests.post(url, headers=headers, data=data)\n",
    "f= open('temp.wav', 'wb')\n",
    "f.write(res.content)\n",
    "f.close()"
   ]
  },
  {
   "cell_type": "code",
   "execution_count": 27,
   "id": "2d902dd8",
   "metadata": {
    "scrolled": true
   },
   "outputs": [
    {
     "name": "stdout",
     "output_type": "stream",
     "text": [
      "Requirement already satisfied: sounddevice in c:\\programdata\\anaconda3\\lib\\site-packages (0.4.3)\n",
      "Requirement already satisfied: CFFI>=1.0 in c:\\programdata\\anaconda3\\lib\\site-packages (from sounddevice) (1.14.5)\n",
      "Requirement already satisfied: pycparser in c:\\programdata\\anaconda3\\lib\\site-packages (from CFFI>=1.0->sounddevice) (2.20)\n",
      "Collecting soundfile\n",
      "  Downloading SoundFile-0.10.3.post1-py2.py3.cp26.cp27.cp32.cp33.cp34.cp35.cp36.pp27.pp32.pp33-none-win_amd64.whl (689 kB)\n",
      "Requirement already satisfied: cffi>=1.0 in c:\\programdata\\anaconda3\\lib\\site-packages (from soundfile) (1.14.5)\n",
      "Requirement already satisfied: pycparser in c:\\programdata\\anaconda3\\lib\\site-packages (from cffi>=1.0->soundfile) (2.20)\n",
      "Installing collected packages: soundfile\n",
      "Successfully installed soundfile-0.10.3.post1\n"
     ]
    }
   ],
   "source": [
    "!pip install sounddevice\n",
    "!pip install soundfile"
   ]
  },
  {
   "cell_type": "markdown",
   "id": "a1c3bdd6",
   "metadata": {},
   "source": [
    "#### 음성 녹음 test"
   ]
  },
  {
   "cell_type": "code",
   "execution_count": 32,
   "id": "4c66e12e",
   "metadata": {},
   "outputs": [
    {
     "name": "stdout",
     "output_type": "stream",
     "text": [
      "start recording\n",
      "stop recording\n"
     ]
    }
   ],
   "source": [
    "import time\n",
    "import queue, os, threading\n",
    "import sounddevice as sd\n",
    "import soundfile as sf\n",
    "from scipy.io.wavfile import write\n",
    "\n",
    "q = queue.Queue()\n",
    "recorder = False\n",
    "recording = False\n",
    "\n",
    "def complicated_record():\n",
    "    with sf.SoundFile(\"test.wav\", mode='w', samplerate=16000, subtype='PCM_16', channels=1) as file:\n",
    "        with sd.InputStream(samplerate=16000, dtype='int16', channels=1, callback=complicated_save):\n",
    "            while recording:\n",
    "                file.write(q.get())\n",
    "        \n",
    "def complicated_save(indata, frames, time, status):\n",
    "    q.put(indata.copy())\n",
    "    \n",
    "def start():\n",
    "    global recorder\n",
    "    global recording\n",
    "    recording = True\n",
    "    recorder = threading.Thread(target=complicated_record)\n",
    "    print('start recording')\n",
    "    recorder.start()\n",
    "    \n",
    "def stop():\n",
    "    global recorder\n",
    "    global recording\n",
    "    recording = False\n",
    "    recorder.join()\n",
    "    print('stop recording')\n",
    "    \n",
    "start()\n",
    "time.sleep(3)\n",
    "stop()"
   ]
  },
  {
   "cell_type": "code",
   "execution_count": null,
   "id": "3c50801a",
   "metadata": {},
   "outputs": [],
   "source": []
  }
 ],
 "metadata": {
  "kernelspec": {
   "display_name": "Python 3",
   "language": "python",
   "name": "python3"
  },
  "language_info": {
   "codemirror_mode": {
    "name": "ipython",
    "version": 3
   },
   "file_extension": ".py",
   "mimetype": "text/x-python",
   "name": "python",
   "nbconvert_exporter": "python",
   "pygments_lexer": "ipython3",
   "version": "3.8.8"
  }
 },
 "nbformat": 4,
 "nbformat_minor": 5
}
