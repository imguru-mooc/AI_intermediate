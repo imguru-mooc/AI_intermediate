{
 "cells": [
  {
   "cell_type": "markdown",
   "metadata": {
    "id": "2QQJJyDzqGRb"
   },
   "source": [
    "# Eager execution\n"
   ]
  },
  {
   "cell_type": "markdown",
   "metadata": {
    "id": "EGjDcGxIqEfX"
   },
   "source": [
    "텐서플로의 즉시 실행은 그래프를 생성하지 않고 함수를 바로 실행하는 명령형 프로그래밍 환경입니다.\n",
    "나중에 실행하기 위해 계산가능한 그래프를 생성하는 대신에 계산값을 즉시 알려주는 연산입니다.\n",
    "이러한 기능은 텐서플로를 시작하고 모델을 디버깅하는 것을 더욱 쉽게 만들고 불필요한 상용구 코드(boilerplate code) 작성을 줄여줍니다.\n",
    "가이드를 따라하려면, 대화형 `파이썬` 해석기(interpreter)를 이용해 아래에 있는 코드 샘플을 실행하세요.\n",
    "\n",
    "즉시 실행은 연구와 실험을 위한 유연한 기계학습 플랫폼으로 다음과 같은 기능을 제공합니다:\n",
    "\n",
    "* *직관적인 인터페이스*-코드를 자연스럽게 구조화하고 파이썬의 데이터 구조를 활용. 작은 모델과 작은 데이터를 빠르게 반복\n",
    "* *손쉬운 디버깅*-실행중인 모델을 검토하거나 변경 사항을 테스트해보기 위해서 연산을 직접 호출. 에러 확인을 위해서 표준 파이썬 디버깅 툴을 사용\n",
    "* *자연스런 흐름 제어*-그래프 제어 흐름 대신에 파이썬 제어 흐름을 사용함으로써 동적인 모델 구조의 단순화\n",
    "\n",
    "즉시 실행은 대부분의 텐서플로 연산과 GPU 가속을 지원합니다.\n",
    "\n",
    "Note: 일부 모델은 즉시 실행을 활성화한 경우 추가연산비용(overhead)이 증가한 경우도 있습니다.성능을 향상시키려는 노력은 계속 진행 중이지만 만약에 문제점을 찾거나 관련된 벤치마크를 공유하고 싶다면 [버그를 기록해주세요](https://github.com/tensorflow/tensorflow/issues)"
   ]
  },
  {
   "cell_type": "markdown",
   "metadata": {
    "id": "RBAeIwOMrYk8"
   },
   "source": [
    "## 설치와 기본 사용법"
   ]
  },
  {
   "cell_type": "code",
   "execution_count": 1,
   "metadata": {
    "execution": {
     "iopub.execute_input": "2020-09-23T03:59:31.048532Z",
     "iopub.status.busy": "2020-09-23T03:59:31.047855Z",
     "iopub.status.idle": "2020-09-23T03:59:37.294977Z",
     "shell.execute_reply": "2020-09-23T03:59:37.294230Z"
    },
    "id": "ByNsp4VqqEfa"
   },
   "outputs": [],
   "source": [
    "import tensorflow as tf\n",
    "\n",
    "import cProfile"
   ]
  },
  {
   "cell_type": "markdown",
   "metadata": {
    "id": "48P3-8q4qEfe"
   },
   "source": [
    "텐서플로 2.0에서 즉시 실행은 기본으로 활성화되어 있습니다."
   ]
  },
  {
   "cell_type": "code",
   "execution_count": 2,
   "metadata": {
    "execution": {
     "iopub.execute_input": "2020-09-23T03:59:37.305190Z",
     "iopub.status.busy": "2020-09-23T03:59:37.304410Z",
     "iopub.status.idle": "2020-09-23T03:59:37.309473Z",
     "shell.execute_reply": "2020-09-23T03:59:37.309999Z"
    },
    "id": "7aFsD8csqEff"
   },
   "outputs": [
    {
     "data": {
      "text/plain": [
       "True"
      ]
     },
     "execution_count": 2,
     "metadata": {},
     "output_type": "execute_result"
    }
   ],
   "source": [
    "tf.executing_eagerly()"
   ]
  },
  {
   "cell_type": "markdown",
   "metadata": {
    "id": "x_G1zZT5qEfh"
   },
   "source": [
    "이제부터는 텐서플로 연산을 바로 실행할 수 있고 결과를 즉시 확인할 수 있습니다:"
   ]
  },
  {
   "cell_type": "code",
   "execution_count": 3,
   "metadata": {
    "execution": {
     "iopub.execute_input": "2020-09-23T03:59:38.698968Z",
     "iopub.status.busy": "2020-09-23T03:59:38.698197Z",
     "iopub.status.idle": "2020-09-23T03:59:39.251112Z",
     "shell.execute_reply": "2020-09-23T03:59:39.251644Z"
    },
    "id": "9gsI54pbqEfj"
   },
   "outputs": [
    {
     "name": "stdout",
     "output_type": "stream",
     "text": [
      "hello, [[4.]]\n"
     ]
    }
   ],
   "source": [
    "x = [[2.]]\n",
    "m = tf.matmul(x, x)   # (1,1)(1,1) => (1,1)\n",
    "print(\"hello, {}\".format(m))"
   ]
  },
  {
   "cell_type": "markdown",
   "metadata": {
    "id": "ajFn6qsdqEfl"
   },
   "source": [
    "즉시 실행 활성화는 텐서플로 연산을 바로 평가하고 그 결과를 파이썬에게 알려주는 방식으로 동작을 변경합니다.\n",
    "`tf.Tensor` 객체는 계산 그래프에 있는 노드를 가르키는 간접 핸들(symbolic handle) 대신에 구체적인 값을 참조합니다.\n",
    "나중에 실행하기 위해서 생성된 계산 그래프가 없기 때문에, `print()`나 디버거를 통해서 결과를 검토하기 쉽습니다.\n",
    "텐서값을 평가, 출력하거나 확인하는 것이 그래디언트(gradients)를 계산하는 흐름을 방해하지 않습니다.\n",
    "\n",
    "즉시 실행은 [NumPy](http://www.numpy.org/)와 같이 잘 작동됩니다.\n",
    "NumPy 연산에 `tf.Tensor`를 매개변수로 사용가능합니다.\n",
    "텐서플로 [수학 연산](https://www.tensorflow.org/api_guides/python/math_ops)은 파이썬 객체와 NumPy 배열을 `tf.Tensor` 객체로 변환합니다.\n",
    "`tf.Tensor.numpy` 메서드는 객체 값을 NumPy `ndarray`로 반환합니다."
   ]
  },
  {
   "cell_type": "code",
   "execution_count": 4,
   "metadata": {
    "execution": {
     "iopub.execute_input": "2020-09-23T03:59:39.256679Z",
     "iopub.status.busy": "2020-09-23T03:59:39.256019Z",
     "iopub.status.idle": "2020-09-23T03:59:39.258138Z",
     "shell.execute_reply": "2020-09-23T03:59:39.258666Z"
    },
    "id": "sTO0_5TYqz1n"
   },
   "outputs": [
    {
     "name": "stdout",
     "output_type": "stream",
     "text": [
      "tf.Tensor(\n",
      "[[1 2]\n",
      " [3 4]], shape=(2, 2), dtype=int32)\n",
      "[[1 2]\n",
      " [3 4]]\n"
     ]
    }
   ],
   "source": [
    "a = tf.constant([[1, 2],\n",
    "                 [3, 4]])\n",
    "print(a)\n",
    "print(a.numpy())"
   ]
  },
  {
   "cell_type": "code",
   "execution_count": 5,
   "metadata": {
    "execution": {
     "iopub.execute_input": "2020-09-23T03:59:39.263117Z",
     "iopub.status.busy": "2020-09-23T03:59:39.262447Z",
     "iopub.status.idle": "2020-09-23T03:59:39.264713Z",
     "shell.execute_reply": "2020-09-23T03:59:39.265229Z"
    },
    "id": "Dp14YT8Gq4r1"
   },
   "outputs": [
    {
     "name": "stdout",
     "output_type": "stream",
     "text": [
      "tf.Tensor(\n",
      "[[2 3]\n",
      " [4 5]], shape=(2, 2), dtype=int32)\n"
     ]
    }
   ],
   "source": [
    "# 브로드캐스팅(Broadcasting) 지원\n",
    "b = tf.add(a, 1)\n",
    "print(b)"
   ]
  },
  {
   "cell_type": "code",
   "execution_count": 7,
   "metadata": {
    "execution": {
     "iopub.execute_input": "2020-09-23T03:59:39.268806Z",
     "iopub.status.busy": "2020-09-23T03:59:39.268115Z",
     "iopub.status.idle": "2020-09-23T03:59:39.270726Z",
     "shell.execute_reply": "2020-09-23T03:59:39.271140Z"
    },
    "id": "69p3waMfq8cQ"
   },
   "outputs": [
    {
     "name": "stdout",
     "output_type": "stream",
     "text": [
      "tf.Tensor(\n",
      "[[ 2  6]\n",
      " [12 20]], shape=(2, 2), dtype=int32)\n"
     ]
    }
   ],
   "source": [
    "# 연산자 오버로딩 지원\n",
    "print(a * b)"
   ]
  },
  {
   "cell_type": "code",
   "execution_count": 8,
   "metadata": {
    "execution": {
     "iopub.execute_input": "2020-09-23T03:59:39.275936Z",
     "iopub.status.busy": "2020-09-23T03:59:39.274812Z",
     "iopub.status.idle": "2020-09-23T03:59:39.277674Z",
     "shell.execute_reply": "2020-09-23T03:59:39.278177Z"
    },
    "id": "Ui025t1qqEfm"
   },
   "outputs": [
    {
     "name": "stdout",
     "output_type": "stream",
     "text": [
      "[[ 2  6]\n",
      " [12 20]]\n"
     ]
    }
   ],
   "source": [
    "# NumPy값 사용\n",
    "import numpy as np\n",
    "\n",
    "c = np.multiply(a, b)\n",
    "print(c)"
   ]
  },
  {
   "cell_type": "code",
   "execution_count": 9,
   "metadata": {
    "execution": {
     "iopub.execute_input": "2020-09-23T03:59:39.282373Z",
     "iopub.status.busy": "2020-09-23T03:59:39.281648Z",
     "iopub.status.idle": "2020-09-23T03:59:39.284788Z",
     "shell.execute_reply": "2020-09-23T03:59:39.284218Z"
    },
    "id": "Tq_aFRzWrCua"
   },
   "outputs": [
    {
     "name": "stdout",
     "output_type": "stream",
     "text": [
      "tf.Tensor(\n",
      "[[1 2]\n",
      " [3 4]], shape=(2, 2), dtype=int32)\n",
      "[[1 2]\n",
      " [3 4]]\n"
     ]
    }
   ],
   "source": [
    "# 텐서로부터 numpy 값 얻기:\n",
    "print(a)\n",
    "print(a.numpy())\n",
    "# => [[1 2]\n",
    "#     [3 4]]"
   ]
  },
  {
   "cell_type": "code",
   "execution_count": 13,
   "metadata": {},
   "outputs": [
    {
     "name": "stdout",
     "output_type": "stream",
     "text": [
      "[[1 2]\n",
      " [3 4]]\n",
      "tf.Tensor(\n",
      "[[1 2]\n",
      " [3 4]], shape=(2, 2), dtype=int32)\n",
      "tf.Tensor(\n",
      "[[1 2]\n",
      " [3 4]], shape=(2, 2), dtype=int32)\n",
      "[[1 2]\n",
      " [3 4]]\n"
     ]
    }
   ],
   "source": [
    "a = np.array([[1, 2],[3, 4]])\n",
    "print(a)\n",
    "b = tf.constant(a)\n",
    "print(b)\n",
    "c = tf.convert_to_tensor(a)\n",
    "print(c)\n",
    "print(c.numpy())"
   ]
  },
  {
   "cell_type": "markdown",
   "metadata": {
    "id": "H08f9ss9qEft"
   },
   "source": [
    "## 동적인 제어 흐름\n",
    "\n",
    "즉시 실행의 가장 큰 이점은 모델을 실행하는 동안에도 호스트 언어의 모든 기능을 활용할 수 있다는 것입니다.\n",
    "그래서 다음과 같이 [fizzbuzz](https://en.wikipedia.org/wiki/Fizz_buzz)를 손쉽게 작성할 수 있습니다:"
   ]
  },
  {
   "cell_type": "code",
   "execution_count": 14,
   "metadata": {
    "execution": {
     "iopub.execute_input": "2020-09-23T03:59:39.291165Z",
     "iopub.status.busy": "2020-09-23T03:59:39.290270Z",
     "iopub.status.idle": "2020-09-23T03:59:39.292437Z",
     "shell.execute_reply": "2020-09-23T03:59:39.292840Z"
    },
    "id": "0fudRMeUqEfu"
   },
   "outputs": [],
   "source": [
    "def fizzbuzz(max_num):\n",
    "  counter = tf.constant(0)\n",
    "  max_num = tf.convert_to_tensor(max_num)\n",
    "  for num in range(1, max_num.numpy()+1):\n",
    "    num = tf.constant(num)\n",
    "    if int(num % 3) == 0 and int(num % 5) == 0:\n",
    "      print('FizzBuzz')\n",
    "    elif int(num % 3) == 0:\n",
    "      print('Fizz')\n",
    "    elif int(num % 5) == 0:\n",
    "      print('Buzz')\n",
    "    else:\n",
    "      print(num.numpy())\n",
    "    counter += 1"
   ]
  },
  {
   "cell_type": "code",
   "execution_count": 15,
   "metadata": {
    "execution": {
     "iopub.execute_input": "2020-09-23T03:59:39.297390Z",
     "iopub.status.busy": "2020-09-23T03:59:39.296391Z",
     "iopub.status.idle": "2020-09-23T03:59:39.303403Z",
     "shell.execute_reply": "2020-09-23T03:59:39.303849Z"
    },
    "id": "P2cKknQWrJLB"
   },
   "outputs": [
    {
     "name": "stdout",
     "output_type": "stream",
     "text": [
      "1\n",
      "2\n",
      "Fizz\n",
      "4\n",
      "Buzz\n",
      "Fizz\n",
      "7\n",
      "8\n",
      "Fizz\n",
      "Buzz\n",
      "11\n",
      "Fizz\n",
      "13\n",
      "14\n",
      "FizzBuzz\n"
     ]
    }
   ],
   "source": [
    "fizzbuzz(15)"
   ]
  },
  {
   "cell_type": "markdown",
   "metadata": {
    "id": "7kA-aC3BqEfy"
   },
   "source": [
    "여기에 텐서값에 따른 조건절이 있고 실행중에 그 결과를 출력합니다."
   ]
  },
  {
   "cell_type": "markdown",
   "metadata": {
    "id": "8huKpuuAwICq"
   },
   "source": [
    "## 즉시 훈련"
   ]
  },
  {
   "cell_type": "markdown",
   "metadata": {
    "id": "mp2lCCZYrxHd"
   },
   "source": [
    "### 그래디언트 계산하기\n",
    "\n",
    "[자동 미분](https://en.wikipedia.org/wiki/Automatic_differentiation)은 인공 신경망 훈련을 위한\n",
    "[역전파](https://en.wikipedia.org/wiki/Backpropagation)와 같은 기계학습 알고리즘을 구현하는데 유용합니다.\n",
    "즉시 실행을 사용하는 동안에는, 나중에 그래디언트를 계산하는 연산을 추적하기 위해 `tf.GradientTape`을 사용하세요.\n",
    "\n",
    "즉시 실행 중에 그래디언트를 계산하고 모델 훈련에 이용하기 위해서 `tf.GradientTape`을 사용할 수 있습니다.\n",
    "특히 복잡하고 반복적인 훈련인 경우에 더 유용합니다.\n",
    "\n",
    "매번 실행될 때 서로 다른 연산이 수행될 수 있기 때문에 모든 정방향(forward-pass) 연산은 \"tape\"에 기록됩니다.\n",
    "그다음 tape를 거꾸로 돌려 그래디언트를 계산한 후 tape를 폐기합니다.\n",
    "특정한 `tf.GradientTape`는 오직 하나의 그래디언트만을 계산할 수 있고 부가적인 호출은 실행중 에러(runtime error)를 발생시킵니다."
   ]
  },
  {
   "cell_type": "code",
   "execution_count": 18,
   "metadata": {
    "execution": {
     "iopub.execute_input": "2020-09-23T03:59:39.309068Z",
     "iopub.status.busy": "2020-09-23T03:59:39.308078Z",
     "iopub.status.idle": "2020-09-23T03:59:39.329041Z",
     "shell.execute_reply": "2020-09-23T03:59:39.328440Z"
    },
    "id": "7g1yWiSXqEf-"
   },
   "outputs": [
    {
     "name": "stdout",
     "output_type": "stream",
     "text": [
      "tf.Tensor([[12.]], shape=(1, 1), dtype=float32)\n"
     ]
    }
   ],
   "source": [
    "w = tf.Variable([[2.0]])\n",
    "with tf.GradientTape() as tape:\n",
    "  loss = w * w * w \n",
    "\n",
    "grad = tape.gradient(loss, w)\n",
    "print(grad)  # => tf.Tensor([[ 12.]], shape=(1, 1), dtype=float32)"
   ]
  },
  {
   "cell_type": "markdown",
   "metadata": {
    "id": "vkHs32GqweYS"
   },
   "source": [
    "### 모델 훈련\n",
    "\n",
    "다음 예는 표준 MNIST 손글씨 분류를 위한 다층 모델을 생성합니다.\n",
    "즉시 실행 환경에서 훈련가능한 그래프를 생성하기 위한 옵티마이저(optimizer)와 층 API를 보여줍니다."
   ]
  },
  {
   "cell_type": "code",
   "execution_count": 26,
   "metadata": {
    "execution": {
     "iopub.execute_input": "2020-09-23T03:59:39.334676Z",
     "iopub.status.busy": "2020-09-23T03:59:39.333690Z",
     "iopub.status.idle": "2020-09-23T03:59:40.857694Z",
     "shell.execute_reply": "2020-09-23T03:59:40.856962Z"
    },
    "id": "38kymXZowhhz"
   },
   "outputs": [
    {
     "name": "stdout",
     "output_type": "stream",
     "text": [
      "(60000, 28, 28)\n",
      "(60000, 28, 28, 1)\n",
      "<class 'tuple'>\n",
      "(32, 28, 28, 1)\n"
     ]
    }
   ],
   "source": [
    "# mnist 데이터 가져오기 및 포맷 맞추기\n",
    "(mnist_images, mnist_labels), _ = tf.keras.datasets.mnist.load_data()\n",
    "\n",
    "print(mnist_images.shape)\n",
    "print(mnist_images[...,tf.newaxis].shape)\n",
    "\n",
    "dataset = tf.data.Dataset.from_tensor_slices(\n",
    "  (tf.cast(mnist_images[...,tf.newaxis]/255, tf.float32),\n",
    "   tf.cast(mnist_labels,tf.int64)))\n",
    "dataset = dataset.shuffle(1000).batch(32)\n",
    "\n",
    "for data in dataset:\n",
    "    print(type(data))\n",
    "    print(data[0].shape)\n",
    "    break"
   ]
  },
  {
   "cell_type": "code",
   "execution_count": 28,
   "metadata": {
    "execution": {
     "iopub.execute_input": "2020-09-23T03:59:40.868253Z",
     "iopub.status.busy": "2020-09-23T03:59:40.862895Z",
     "iopub.status.idle": "2020-09-23T03:59:40.912047Z",
     "shell.execute_reply": "2020-09-23T03:59:40.911414Z"
    },
    "id": "rl1K8rOowmwT"
   },
   "outputs": [],
   "source": [
    "# 모델 생성\n",
    "mnist_model = tf.keras.Sequential([\n",
    "  tf.keras.layers.Conv2D(16,[3,3], activation='relu',\n",
    "                         input_shape=(None, None, 1)),  #  w.shape(3,3,1,16) , b.shape(16,)\n",
    "  tf.keras.layers.Conv2D(16,[3,3], activation='relu'),  #  w.shape(3,3,16,16) , b.shape(16,)\n",
    "  tf.keras.layers.GlobalAveragePooling2D(),\n",
    "  tf.keras.layers.Dense(10)                             #  (16,10)+(10,)\n",
    "])"
   ]
  },
  {
   "cell_type": "markdown",
   "metadata": {
    "id": "fvyk-HgGwxwl"
   },
   "source": [
    "즉시 실행에서는 훈련을 하지 않아도 모델을 사용하고 결과를 점검할 수 있습니다:"
   ]
  },
  {
   "cell_type": "code",
   "execution_count": 29,
   "metadata": {
    "execution": {
     "iopub.execute_input": "2020-09-23T03:59:40.917832Z",
     "iopub.status.busy": "2020-09-23T03:59:40.916908Z",
     "iopub.status.idle": "2020-09-23T03:59:42.449471Z",
     "shell.execute_reply": "2020-09-23T03:59:42.448821Z"
    },
    "id": "BsxystjBwxLS"
   },
   "outputs": [
    {
     "name": "stdout",
     "output_type": "stream",
     "text": [
      "로짓:  [[-0.01273005  0.01240656  0.01115405 -0.0361323   0.00943478 -0.00854659\n",
      "   0.00934136 -0.01812705 -0.0155181   0.01760003]]\n"
     ]
    }
   ],
   "source": [
    "for images,labels in dataset.take(1):\n",
    "  print(\"로짓: \", mnist_model(images[0:1]).numpy())"
   ]
  },
  {
   "cell_type": "markdown",
   "metadata": {
    "id": "Y3PGa8G7qEgB"
   },
   "source": [
    "케라스 모델은 자체적인 훈련 메서드(fit)을 포함하고 있지만 때로는 좀 더 수정할 필요가 있습니다.\n",
    "다음은 즉시 실행을 활용한 반복적인 훈련의 예입니다:"
   ]
  },
  {
   "cell_type": "code",
   "execution_count": 30,
   "metadata": {
    "execution": {
     "iopub.execute_input": "2020-09-23T03:59:42.455511Z",
     "iopub.status.busy": "2020-09-23T03:59:42.454528Z",
     "iopub.status.idle": "2020-09-23T03:59:42.457120Z",
     "shell.execute_reply": "2020-09-23T03:59:42.456507Z"
    },
    "id": "bzRhM7JDnaEG"
   },
   "outputs": [],
   "source": [
    "optimizer = tf.keras.optimizers.Adam()\n",
    "loss_object = tf.keras.losses.SparseCategoricalCrossentropy(from_logits=True)\n",
    "\n",
    "loss_history = []"
   ]
  },
  {
   "cell_type": "markdown",
   "metadata": {
    "id": "tXaupYXRI2YM"
   },
   "source": [
    "Note: 조건을 만족했는지 확인하기 위해서 `tf.debugging`에 있는 단언문(assert) 함수를 사용하세요. 이것은 즉시 실행과 그래프 실행 모두에서 동작합니다."
   ]
  },
  {
   "cell_type": "code",
   "execution_count": 31,
   "metadata": {},
   "outputs": [
    {
     "name": "stdout",
     "output_type": "stream",
     "text": [
      "[<tf.Variable 'conv2d_2/kernel:0' shape=(3, 3, 1, 16) dtype=float32, numpy=\n",
      "array([[[[-0.07534094,  0.03152099,  0.0014168 , -0.09163753,\n",
      "          -0.11055595,  0.17436944,  0.17828445,  0.02993479,\n",
      "           0.12041955, -0.00835748,  0.1205257 ,  0.03786008,\n",
      "          -0.05456357,  0.1149395 ,  0.1874757 ,  0.10711278]],\n",
      "\n",
      "        [[ 0.08974986, -0.02128002,  0.07013769,  0.1821001 ,\n",
      "          -0.18503562, -0.07299115,  0.15273072,  0.19279934,\n",
      "           0.07480718,  0.06066917,  0.17798494, -0.09408373,\n",
      "           0.07491709,  0.07729332, -0.03995676,  0.08038895]],\n",
      "\n",
      "        [[-0.1451188 , -0.02889019,  0.03879482,  0.06070812,\n",
      "          -0.03246683,  0.10376711, -0.06407301, -0.12017744,\n",
      "          -0.06736466, -0.13362563, -0.10091195,  0.08829041,\n",
      "           0.13131322, -0.05567771, -0.1629149 , -0.02766627]]],\n",
      "\n",
      "\n",
      "       [[[ 0.00535703, -0.1698326 , -0.13372128, -0.10349842,\n",
      "          -0.15997532, -0.1951852 ,  0.09905781, -0.08186123,\n",
      "          -0.13930017, -0.18496636, -0.0483274 ,  0.16795878,\n",
      "          -0.18267909,  0.19504635, -0.1445664 ,  0.16474487]],\n",
      "\n",
      "        [[ 0.16576876,  0.13101114, -0.04034764,  0.06905742,\n",
      "          -0.19363171, -0.06063376,  0.07652242,  0.11543424,\n",
      "          -0.08681525,  0.18820198,  0.19596489, -0.17351949,\n",
      "           0.05866282, -0.03516105,  0.04813373, -0.08805843]],\n",
      "\n",
      "        [[-0.11034147, -0.12508155,  0.14971958,  0.15675618,\n",
      "           0.01581024,  0.01533239,  0.08489485,  0.12825187,\n",
      "           0.02674247, -0.10419166, -0.00534759,  0.16619875,\n",
      "          -0.17711052, -0.14728026,  0.17977561, -0.01319648]]],\n",
      "\n",
      "\n",
      "       [[[ 0.06072544, -0.04700522,  0.02356224,  0.18732847,\n",
      "          -0.04966918,  0.13447662,  0.08497073, -0.1538657 ,\n",
      "          -0.08339625, -0.10359115, -0.14431754, -0.09113031,\n",
      "           0.17269458, -0.11380441,  0.15434624, -0.02290536]],\n",
      "\n",
      "        [[-0.06343454, -0.00107123,  0.04285239, -0.05499066,\n",
      "           0.08359803, -0.19350065, -0.00065018, -0.00131406,\n",
      "          -0.16398832, -0.08964761,  0.0337062 , -0.19552065,\n",
      "          -0.12975007,  0.18988888, -0.17119028, -0.16850995]],\n",
      "\n",
      "        [[-0.18232049, -0.01832849, -0.05703786, -0.02176192,\n",
      "          -0.02242562,  0.0516075 , -0.00316937, -0.15929365,\n",
      "          -0.19210349,  0.01540217,  0.15305857, -0.15037216,\n",
      "          -0.18176039,  0.08731963, -0.01056246,  0.1439826 ]]]],\n",
      "      dtype=float32)>, <tf.Variable 'conv2d_2/bias:0' shape=(16,) dtype=float32, numpy=\n",
      "array([0., 0., 0., 0., 0., 0., 0., 0., 0., 0., 0., 0., 0., 0., 0., 0.],\n",
      "      dtype=float32)>, <tf.Variable 'conv2d_3/kernel:0' shape=(3, 3, 16, 16) dtype=float32, numpy=\n",
      "array([[[[ 0.12680277,  0.02187894,  0.04696229, ...,  0.07104792,\n",
      "          -0.08554402, -0.10526305],\n",
      "         [ 0.07835858, -0.1321914 ,  0.11717755, ...,  0.1431601 ,\n",
      "           0.12065175,  0.08230469],\n",
      "         [-0.02792843,  0.07046872,  0.13219795, ..., -0.01614405,\n",
      "          -0.05287836, -0.12445842],\n",
      "         ...,\n",
      "         [-0.00790754, -0.02463843,  0.031739  , ...,  0.02168396,\n",
      "           0.1074124 ,  0.10386826],\n",
      "         [ 0.13407788,  0.10107322, -0.06966612, ..., -0.09387728,\n",
      "           0.01926251, -0.10483843],\n",
      "         [-0.03425181,  0.1102635 , -0.14084278, ..., -0.037618  ,\n",
      "           0.00779325, -0.07835145]],\n",
      "\n",
      "        [[ 0.13634038,  0.035393  , -0.09708317, ...,  0.02834241,\n",
      "          -0.07342946,  0.0518571 ],\n",
      "         [ 0.13204098,  0.01090506, -0.04465551, ...,  0.05434549,\n",
      "          -0.05734683, -0.08627293],\n",
      "         [-0.00934784, -0.06081987, -0.14384626, ...,  0.03324881,\n",
      "           0.13483554,  0.085457  ],\n",
      "         ...,\n",
      "         [ 0.11948943,  0.01041798, -0.06071994, ...,  0.03728254,\n",
      "           0.11224803,  0.0786676 ],\n",
      "         [ 0.10678422,  0.11731926, -0.02003752, ...,  0.03392059,\n",
      "          -0.00273162, -0.00444065],\n",
      "         [-0.09240094, -0.07792738,  0.0658198 , ..., -0.01305486,\n",
      "          -0.01294982,  0.06840289]],\n",
      "\n",
      "        [[ 0.03079151,  0.06303866, -0.11835101, ..., -0.13770275,\n",
      "           0.05740474,  0.09703259],\n",
      "         [-0.050889  , -0.08880047, -0.09425692, ...,  0.01834634,\n",
      "          -0.09758051,  0.01706281],\n",
      "         [ 0.10352042, -0.09940296,  0.12251285, ...,  0.06090422,\n",
      "           0.00094755,  0.10295148],\n",
      "         ...,\n",
      "         [ 0.09215406, -0.09934206,  0.04779974, ...,  0.13044882,\n",
      "          -0.0745372 ,  0.05066285],\n",
      "         [-0.07653008, -0.02829417, -0.08841945, ..., -0.04100242,\n",
      "          -0.03279588,  0.08582872],\n",
      "         [-0.08955022, -0.10392192, -0.05845833, ..., -0.09590928,\n",
      "           0.05079515,  0.04700181]]],\n",
      "\n",
      "\n",
      "       [[[-0.09900399, -0.12340569,  0.05543569, ...,  0.13282955,\n",
      "           0.11180857, -0.03027039],\n",
      "         [ 0.11059472, -0.10453533, -0.13738443, ...,  0.1344176 ,\n",
      "          -0.10796703, -0.04219241],\n",
      "         [ 0.02151158, -0.07198295,  0.04602483, ...,  0.00947249,\n",
      "          -0.1354864 , -0.01942411],\n",
      "         ...,\n",
      "         [ 0.05526155, -0.01380709,  0.0888947 , ..., -0.05260351,\n",
      "           0.08990426,  0.03371146],\n",
      "         [ 0.12375966,  0.0779217 , -0.11980368, ..., -0.0298073 ,\n",
      "          -0.01046011, -0.06234577],\n",
      "         [ 0.04181972, -0.12166788, -0.02297076, ...,  0.08439137,\n",
      "           0.08537389,  0.0803645 ]],\n",
      "\n",
      "        [[ 0.11177489,  0.04838279,  0.08990918, ...,  0.13461459,\n",
      "           0.14379781,  0.01602691],\n",
      "         [ 0.08351339, -0.13606904,  0.12639812, ..., -0.07566058,\n",
      "           0.12749234,  0.05978827],\n",
      "         [ 0.02392568, -0.13194191, -0.07237907, ..., -0.07665025,\n",
      "           0.02885823, -0.13857576],\n",
      "         ...,\n",
      "         [ 0.11244237,  0.00525084,  0.00406332, ...,  0.0328481 ,\n",
      "          -0.03980823, -0.03530247],\n",
      "         [ 0.14136052,  0.00113118, -0.0701649 , ...,  0.11770988,\n",
      "           0.12052774,  0.06731996],\n",
      "         [-0.00711288, -0.05179674,  0.1409173 , ..., -0.10380481,\n",
      "          -0.10509323,  0.01233684]],\n",
      "\n",
      "        [[-0.04561308, -0.10831811, -0.06222115, ..., -0.06502376,\n",
      "           0.06066532, -0.06916902],\n",
      "         [-0.06407786, -0.10913666, -0.00673185, ..., -0.08981991,\n",
      "          -0.05065451, -0.10787074],\n",
      "         [ 0.09481926, -0.11173182,  0.0450145 , ...,  0.07992741,\n",
      "          -0.07798306,  0.01334719],\n",
      "         ...,\n",
      "         [-0.07480965,  0.02422547,  0.04952264, ..., -0.0006876 ,\n",
      "           0.11821443, -0.02569366],\n",
      "         [-0.08896799,  0.066668  , -0.01287   , ...,  0.00146702,\n",
      "          -0.08757871,  0.0137468 ],\n",
      "         [ 0.06892005, -0.04846844, -0.135261  , ...,  0.06526025,\n",
      "          -0.05361081,  0.04421227]]],\n",
      "\n",
      "\n",
      "       [[[ 0.03538024, -0.04323268, -0.07118519, ...,  0.09490697,\n",
      "          -0.14110325,  0.00437678],\n",
      "         [-0.09452657, -0.08574954, -0.1307874 , ...,  0.11457217,\n",
      "           0.05538231,  0.02639948],\n",
      "         [ 0.13778108, -0.09281007, -0.06491399, ...,  0.10058378,\n",
      "           0.0179489 , -0.03104474],\n",
      "         ...,\n",
      "         [ 0.12667283,  0.06985188, -0.03695479, ...,  0.06228475,\n",
      "          -0.00451237,  0.13559076],\n",
      "         [ 0.12753493, -0.11301817, -0.05361721, ...,  0.00223136,\n",
      "          -0.10627399, -0.08350793],\n",
      "         [ 0.08915333, -0.12222451,  0.132593  , ..., -0.05595115,\n",
      "           0.00420985,  0.0405913 ]],\n",
      "\n",
      "        [[ 0.06808664, -0.06893773, -0.13667136, ..., -0.11575474,\n",
      "          -0.12820923,  0.1212931 ],\n",
      "         [ 0.11934179, -0.11053918,  0.11395991, ...,  0.06027032,\n",
      "           0.13324326,  0.07879406],\n",
      "         [-0.03410876,  0.00282779, -0.03580809, ..., -0.07157434,\n",
      "           0.13616312,  0.05777751],\n",
      "         ...,\n",
      "         [ 0.10660192,  0.08388864,  0.09483974, ..., -0.04723533,\n",
      "          -0.10071258,  0.09437299],\n",
      "         [ 0.04570919, -0.0215122 ,  0.0419433 , ..., -0.06337949,\n",
      "           0.04295699,  0.10396428],\n",
      "         [-0.08808605,  0.14333972,  0.05501887, ..., -0.03865206,\n",
      "           0.07992738,  0.00679535]],\n",
      "\n",
      "        [[-0.07703485, -0.12158134, -0.09450074, ...,  0.10910338,\n",
      "           0.10399412,  0.07448635],\n",
      "         [-0.00550391, -0.10435115, -0.1282635 , ..., -0.10786217,\n",
      "          -0.1382984 , -0.06296416],\n",
      "         [-0.13304746,  0.01656052,  0.07451876, ..., -0.05506454,\n",
      "          -0.05307855,  0.0846339 ],\n",
      "         ...,\n",
      "         [ 0.1325669 ,  0.11326402, -0.03128374, ...,  0.09057055,\n",
      "          -0.1276291 , -0.10169871],\n",
      "         [-0.08642217, -0.07629322, -0.11101535, ..., -0.08248855,\n",
      "           0.11578092, -0.07316039],\n",
      "         [-0.12058767, -0.01083902, -0.04377478, ..., -0.0195672 ,\n",
      "           0.04665166, -0.07936937]]]], dtype=float32)>, <tf.Variable 'conv2d_3/bias:0' shape=(16,) dtype=float32, numpy=\n",
      "array([0., 0., 0., 0., 0., 0., 0., 0., 0., 0., 0., 0., 0., 0., 0., 0.],\n",
      "      dtype=float32)>, <tf.Variable 'dense_1/kernel:0' shape=(16, 10) dtype=float32, numpy=\n",
      "array([[-0.00951961, -0.11333171, -0.3319229 , -0.2948994 ,  0.10304427,\n",
      "        -0.12620619, -0.42402768, -0.24193874,  0.40271777, -0.03208974],\n",
      "       [-0.3820366 ,  0.34837866, -0.19289887,  0.40845627,  0.34083903,\n",
      "         0.30550593, -0.10170412, -0.31276786, -0.02590853, -0.4025369 ],\n",
      "       [ 0.1896953 , -0.2455456 ,  0.357261  , -0.45197627, -0.2101225 ,\n",
      "        -0.45726115,  0.3893898 ,  0.25506854, -0.34785652, -0.38202286],\n",
      "       [ 0.10483915,  0.37859797, -0.14634514,  0.00404495, -0.3699038 ,\n",
      "         0.04682541, -0.22265479, -0.43425924,  0.01762438,  0.07457983],\n",
      "       [-0.3154652 ,  0.43166035,  0.1084888 ,  0.01683721,  0.36096007,\n",
      "         0.16493368, -0.13432884,  0.42206323,  0.3454762 , -0.17650285],\n",
      "       [ 0.2227549 , -0.3196396 ,  0.42803025,  0.29680467,  0.4422812 ,\n",
      "        -0.27807444,  0.4063443 ,  0.37239355, -0.1091207 ,  0.22353154],\n",
      "       [-0.39559475,  0.23726237, -0.08765545, -0.1318042 , -0.2912442 ,\n",
      "         0.36714518,  0.45168948,  0.44023597, -0.17569527,  0.3578686 ],\n",
      "       [ 0.44293106,  0.2114597 , -0.11386612,  0.06178463, -0.26328683,\n",
      "         0.08726537, -0.4591011 , -0.29710302, -0.0350976 ,  0.08881438],\n",
      "       [ 0.17949456,  0.43183833, -0.4060156 ,  0.38253605, -0.07887241,\n",
      "        -0.10556009,  0.00783265,  0.07179576, -0.23068592,  0.14023519],\n",
      "       [-0.47789237,  0.41618496,  0.14444566,  0.03997052,  0.08591259,\n",
      "         0.3783766 , -0.11056963, -0.34989086,  0.37243795, -0.37018088],\n",
      "       [-0.333839  ,  0.4341125 ,  0.2729466 , -0.28701258,  0.20573705,\n",
      "         0.38945407, -0.4372627 , -0.39310858, -0.37850395,  0.20076543],\n",
      "       [-0.2283405 ,  0.14233273,  0.43761343, -0.14601162, -0.2448607 ,\n",
      "         0.37499708,  0.16584343, -0.30818325, -0.36857915,  0.4457364 ],\n",
      "       [ 0.16962355,  0.19250476, -0.08945477, -0.20904222, -0.37834615,\n",
      "        -0.08867869,  0.25904155, -0.4766862 ,  0.16775048,  0.33088428],\n",
      "       [ 0.00938228, -0.14415449, -0.04317948, -0.4329163 ,  0.06478202,\n",
      "        -0.40799484,  0.25209332, -0.29325885, -0.18694696,  0.13687837],\n",
      "       [ 0.08622777,  0.15283537,  0.40693647, -0.42042905,  0.46605527,\n",
      "        -0.39722064, -0.13971785, -0.32534242,  0.47763222,  0.41136748],\n",
      "       [ 0.1372279 , -0.1243462 ,  0.4185353 ,  0.32284367,  0.1404109 ,\n",
      "         0.4148513 , -0.272465  , -0.12117869, -0.24448147, -0.045845  ]],\n",
      "      dtype=float32)>, <tf.Variable 'dense_1/bias:0' shape=(10,) dtype=float32, numpy=array([0., 0., 0., 0., 0., 0., 0., 0., 0., 0.], dtype=float32)>]\n"
     ]
    }
   ],
   "source": [
    "print(mnist_model.trainable_variables)"
   ]
  },
  {
   "cell_type": "code",
   "execution_count": 33,
   "metadata": {
    "execution": {
     "iopub.execute_input": "2020-09-23T03:59:42.463376Z",
     "iopub.status.busy": "2020-09-23T03:59:42.462447Z",
     "iopub.status.idle": "2020-09-23T03:59:42.465113Z",
     "shell.execute_reply": "2020-09-23T03:59:42.464509Z"
    },
    "id": "DDHrigtiCIA4"
   },
   "outputs": [],
   "source": [
    "def train_step(images, labels):\n",
    "  with tf.GradientTape() as tape:\n",
    "    logits = mnist_model(images, training=True)\n",
    "    \n",
    "    # 결과의 형태를 확인하기 위해서 단언문 추가\n",
    "    tf.debugging.assert_equal(logits.shape, (32, 10))\n",
    "    \n",
    "    loss_value = loss_object(labels, logits)\n",
    "\n",
    "  loss_history.append(loss_value.numpy().mean())\n",
    "  grads = tape.gradient(loss_value, mnist_model.trainable_variables)\n",
    "  optimizer.apply_gradients(zip(grads, mnist_model.trainable_variables))"
   ]
  },
  {
   "cell_type": "code",
   "execution_count": 34,
   "metadata": {
    "execution": {
     "iopub.execute_input": "2020-09-23T03:59:42.470018Z",
     "iopub.status.busy": "2020-09-23T03:59:42.469094Z",
     "iopub.status.idle": "2020-09-23T03:59:42.471657Z",
     "shell.execute_reply": "2020-09-23T03:59:42.471060Z"
    },
    "id": "0m1xAXrmqEgJ"
   },
   "outputs": [],
   "source": [
    "def train():\n",
    "  for epoch in range(3):\n",
    "    for (batch, (images, labels)) in enumerate(dataset):\n",
    "      train_step(images, labels)\n",
    "    print ('에포크 {} 종료'.format(epoch))"
   ]
  },
  {
   "cell_type": "code",
   "execution_count": 35,
   "metadata": {
    "execution": {
     "iopub.execute_input": "2020-09-23T03:59:42.476255Z",
     "iopub.status.busy": "2020-09-23T03:59:42.475318Z",
     "iopub.status.idle": "2020-09-23T04:00:27.310191Z",
     "shell.execute_reply": "2020-09-23T04:00:27.309557Z"
    },
    "id": "C5dGz0p_nf4W"
   },
   "outputs": [
    {
     "name": "stdout",
     "output_type": "stream",
     "text": [
      "에포크 0 종료\n",
      "에포크 1 종료\n",
      "에포크 2 종료\n"
     ]
    }
   ],
   "source": [
    "train()"
   ]
  },
  {
   "cell_type": "code",
   "execution_count": 36,
   "metadata": {
    "execution": {
     "iopub.execute_input": "2020-09-23T04:00:27.314885Z",
     "iopub.status.busy": "2020-09-23T04:00:27.314218Z",
     "iopub.status.idle": "2020-09-23T04:00:27.628773Z",
     "shell.execute_reply": "2020-09-23T04:00:27.628152Z"
    },
    "id": "5vG5ql_2vYB5"
   },
   "outputs": [
    {
     "data": {
      "text/plain": [
       "Text(0, 0.5, 'Loss [entropy]')"
      ]
     },
     "execution_count": 36,
     "metadata": {},
     "output_type": "execute_result"
    },
    {
     "data": {
      "image/png": "[encoded data removed]",
      "text/plain": [
       "<Figure size 432x288 with 1 Axes>"
      ]
     },
     "metadata": {
      "needs_background": "light"
     },
     "output_type": "display_data"
    }
   ],
   "source": [
    "import matplotlib.pyplot as plt\n",
    "\n",
    "plt.plot(loss_history)\n",
    "plt.xlabel('Batch #')\n",
    "plt.ylabel('Loss [entropy]')"
   ]
  },
  {
   "cell_type": "markdown",
   "metadata": {
    "id": "kKpOlHPLqEgl"
   },
   "source": [
    "### 변수와 옵티마이저\n",
    "\n",
    "`tf.Variable` 객체는 자동 미분을 쉽게 하기 위해서 학습동안 변경된 `tf.Tensor` 값을 저장합니다.\n",
    "모델 파라미터는 클래스 인스턴스 변수로 캡슐화될 수 있습니다.\n",
    "\n",
    "효과적으로 모델 파라미터를 캡슐화하려면 `tf.Variable`을 `tf.GradientTape`과 함께 사용합니다.\n",
    "예를 들어, 위의 자동 미분은 다음과 같이 재작성 가능합니다:"
   ]
  },
  {
   "cell_type": "code",
   "execution_count": 43,
   "metadata": {
    "execution": {
     "iopub.execute_input": "2020-09-23T04:00:27.639762Z",
     "iopub.status.busy": "2020-09-23T04:00:27.639060Z",
     "iopub.status.idle": "2020-09-23T04:00:28.231933Z",
     "shell.execute_reply": "2020-09-23T04:00:28.231278Z"
    },
    "id": "nnQLBYmEqEgm"
   },
   "outputs": [
    {
     "name": "stdout",
     "output_type": "stream",
     "text": [
      "초기 손실: 69.135\n",
      "스텝 000에서 손실: 66.433\n",
      "스텝 020에서 손실: 30.119\n",
      "스텝 040에서 손실: 13.947\n",
      "스텝 060에서 손실: 6.745\n",
      "스텝 080에서 손실: 3.538\n",
      "스텝 100에서 손실: 2.109\n",
      "스텝 120에서 손실: 1.473\n",
      "스텝 140에서 손실: 1.190\n",
      "스텝 160에서 손실: 1.064\n",
      "스텝 180에서 손실: 1.007\n",
      "스텝 200에서 손실: 0.982\n",
      "스텝 220에서 손실: 0.971\n",
      "스텝 240에서 손실: 0.966\n",
      "스텝 260에서 손실: 0.964\n",
      "스텝 280에서 손실: 0.963\n",
      "최종 손실: 0.963\n",
      "W = 2.9887914657592773, B = 2.015968084335327\n"
     ]
    },
    {
     "data": {
      "image/png": "[encoded data removed]",
      "text/plain": [
       "<Figure size 432x288 with 1 Axes>"
      ]
     },
     "metadata": {
      "needs_background": "light"
     },
     "output_type": "display_data"
    }
   ],
   "source": [
    "class Model(tf.keras.Model):\n",
    "  def __init__(self):\n",
    "    super(Model, self).__init__()\n",
    "    self.W = tf.Variable(5., name='weight')\n",
    "    self.B = tf.Variable(10., name='bias')\n",
    "  def call(self, inputs):\n",
    "    return inputs * self.W + self.B\n",
    "\n",
    "# 약 3 * x + 2개의 점으로 구성된 실험 데이터\n",
    "NUM_EXAMPLES = 2000\n",
    "training_inputs = tf.random.normal([NUM_EXAMPLES])\n",
    "noise = tf.random.normal([NUM_EXAMPLES])\n",
    "training_outputs = training_inputs * 3 + 2 + noise\n",
    "\n",
    "plt.scatter(training_inputs.numpy(), training_outputs.numpy())\n",
    "\n",
    "# 최적화할 손실함수\n",
    "def loss(model, inputs, targets):\n",
    "  error = model(inputs) - targets\n",
    "  return tf.reduce_mean(tf.square(error))\n",
    "\n",
    "def grad(model, inputs, targets):\n",
    "  with tf.GradientTape() as tape:\n",
    "    loss_value = loss(model, inputs, targets)\n",
    "  return tape.gradient(loss_value, [model.W, model.B])\n",
    "\n",
    "# 정의:\n",
    "# 1. 모델\n",
    "# 2. 모델 파라미터에 대한 손실 함수의 미분\n",
    "# 3. 미분에 기초한 변수 업데이트 전략\n",
    "model = Model()\n",
    "optimizer = tf.keras.optimizers.SGD(learning_rate=0.01)\n",
    "\n",
    "print(\"초기 손실: {:.3f}\".format(loss(model, training_inputs, training_outputs)))\n",
    "\n",
    "# # 반복 훈련\n",
    "for i in range(300):\n",
    "  grads = grad(model, training_inputs, training_outputs)\n",
    "  optimizer.apply_gradients(zip(grads, [model.W, model.B]))\n",
    "  if i % 20 == 0:\n",
    "    print(\"스텝 {:03d}에서 손실: {:.3f}\".format(i, loss(model, training_inputs, training_outputs)))\n",
    "\n",
    "print(\"최종 손실: {:.3f}\".format(loss(model, training_inputs, training_outputs)))\n",
    "print(\"W = {}, B = {}\".format(model.W.numpy(), model.B.numpy()))"
   ]
  },
  {
   "cell_type": "markdown",
   "metadata": {
    "id": "rPjb8nRWqEgr"
   },
   "source": [
    "## 즉시 실행에서 상태를 위한 객체 사용\n",
    "\n",
    "텐서플로 1.x 그래프 실행에서, 프로그램 상태(예: 변수)는 전역 컬렉션에 저장되고 그 수명은 `tf.Session` 객체에 의해서 관리됩니다.\n",
    "반면에 즉시 실행에서 상태 객체 수명은 그와 관련된 파이썬 객체 수명에 의해서 결정됩니다.\n",
    "\n",
    "### 변수는 객체입니다\n",
    "\n",
    "즉시 실행에서 변수는 그 객체의 마지막 참조가 제거될 때까지 유지되고 그 이후 삭제됩니다."
   ]
  },
  {
   "cell_type": "code",
   "execution_count": 22,
   "metadata": {
    "execution": {
     "iopub.execute_input": "2020-09-23T04:00:28.237343Z",
     "iopub.status.busy": "2020-09-23T04:00:28.236642Z",
     "iopub.status.idle": "2020-09-23T04:00:28.240965Z",
     "shell.execute_reply": "2020-09-23T04:00:28.240450Z"
    },
    "id": "A2boS674qEgs"
   },
   "outputs": [
    {
     "name": "stdout",
     "output_type": "stream",
     "text": [
      "GPU 사용 가능\n"
     ]
    }
   ],
   "source": [
    "if tf.config.experimental.list_physical_devices(\"GPU\"):\n",
    "  with tf.device(\"gpu:0\"):\n",
    "    print(\"GPU 사용 가능\")\n",
    "    v = tf.Variable(tf.random.normal([1000, 1000]))\n",
    "    v = None  # v는 더이상 GPU 메모리를 사용하지 않음"
   ]
  },
  {
   "cell_type": "markdown",
   "metadata": {
    "id": "scMjg6L6qEgv"
   },
   "source": [
    "### 객체 기반의 저장\n",
    "\n",
    "이번 장은 [훈련 체크포인트 가이드](./checkpoint.ipynb) 요약버전입니다.\n",
    "\n",
    "`tf.train.Checkpoint`는 `tf.Variable`을 체크포인트 파일로 저장하거나 체크포인트 파일에서 복구할 수 있습니다:"
   ]
  },
  {
   "cell_type": "code",
   "execution_count": 23,
   "metadata": {
    "execution": {
     "iopub.execute_input": "2020-09-23T04:00:28.245170Z",
     "iopub.status.busy": "2020-09-23T04:00:28.244526Z",
     "iopub.status.idle": "2020-09-23T04:00:28.247748Z",
     "shell.execute_reply": "2020-09-23T04:00:28.247236Z"
    },
    "id": "7z5xRfdHzZOQ"
   },
   "outputs": [],
   "source": [
    "x = tf.Variable(10.)\n",
    "checkpoint = tf.train.Checkpoint(x=x)"
   ]
  },
  {
   "cell_type": "code",
   "execution_count": 24,
   "metadata": {
    "execution": {
     "iopub.execute_input": "2020-09-23T04:00:28.251947Z",
     "iopub.status.busy": "2020-09-23T04:00:28.251275Z",
     "iopub.status.idle": "2020-09-23T04:00:28.265904Z",
     "shell.execute_reply": "2020-09-23T04:00:28.265396Z"
    },
    "id": "IffrUVG7zyVb"
   },
   "outputs": [
    {
     "data": {
      "text/plain": [
       "'./ckpt/-1'"
      ]
     },
     "execution_count": 1,
     "metadata": {},
     "output_type": "execute_result"
    }
   ],
   "source": [
    "x.assign(2.)   # 변수에 새로운 값을 할당하고 저장\n",
    "checkpoint_path = './ckpt/'\n",
    "checkpoint.save('./ckpt/')"
   ]
  },
  {
   "cell_type": "code",
   "execution_count": 25,
   "metadata": {
    "execution": {
     "iopub.execute_input": "2020-09-23T04:00:28.269949Z",
     "iopub.status.busy": "2020-09-23T04:00:28.269210Z",
     "iopub.status.idle": "2020-09-23T04:00:28.276137Z",
     "shell.execute_reply": "2020-09-23T04:00:28.276566Z"
    },
    "id": "eMT9koCoqEgw"
   },
   "outputs": [
    {
     "name": "stdout",
     "output_type": "stream",
     "text": [
      "<tf.Variable 'Variable:0' shape=() dtype=float32, numpy=2.0>\n"
     ]
    }
   ],
   "source": [
    "x.assign(11.)  # 저장한 후에 변수 변경\n",
    "\n",
    "# 체크포인트로부터 값을 복구\n",
    "checkpoint.restore(tf.train.latest_checkpoint(checkpoint_path))\n",
    "\n",
    "print(x)  # => 2.0"
   ]
  },
  {
   "cell_type": "markdown",
   "metadata": {
    "id": "vbFnP-yLqEgx"
   },
   "source": [
    "모델을 저장하거나 읽어들이기 위해서, `tf.train.Checkpoint`는 숨겨진 변수를 요구하지 않고 객체 내부 상태를 저장합니다. \n",
    "`옵티마이저`와 `모델`, 전역 단계 상태를 기록하려면 `tf.train.Checkpoint`에 전달하면 됩니다:"
   ]
  },
  {
   "cell_type": "code",
   "execution_count": 26,
   "metadata": {
    "execution": {
     "iopub.execute_input": "2020-09-23T04:00:28.287790Z",
     "iopub.status.busy": "2020-09-23T04:00:28.287126Z",
     "iopub.status.idle": "2020-09-23T04:00:28.302487Z",
     "shell.execute_reply": "2020-09-23T04:00:28.301913Z"
    },
    "id": "hWZHyAXMqEg0"
   },
   "outputs": [
    {
     "data": {
      "text/plain": [
       "<tensorflow.python.training.tracking.util.CheckpointLoadStatus at 0x7fba941ec0f0>"
      ]
     },
     "execution_count": 1,
     "metadata": {},
     "output_type": "execute_result"
    }
   ],
   "source": [
    "import os\n",
    "\n",
    "model = tf.keras.Sequential([\n",
    "  tf.keras.layers.Conv2D(16,[3,3], activation='relu'),\n",
    "  tf.keras.layers.GlobalAveragePooling2D(),\n",
    "  tf.keras.layers.Dense(10)\n",
    "])\n",
    "optimizer = tf.keras.optimizers.Adam(learning_rate=0.001)\n",
    "checkpoint_dir = 'path/to/model_dir'\n",
    "if not os.path.exists(checkpoint_dir):\n",
    "  os.makedirs(checkpoint_dir)\n",
    "checkpoint_prefix = os.path.join(checkpoint_dir, \"ckpt\")\n",
    "root = tf.train.Checkpoint(optimizer=optimizer,\n",
    "                           model=model)\n",
    "\n",
    "root.save(checkpoint_prefix)\n",
    "root.restore(tf.train.latest_checkpoint(checkpoint_dir))"
   ]
  },
  {
   "cell_type": "markdown",
   "metadata": {
    "id": "R-ITwkBCF6GJ"
   },
   "source": [
    "Note: 대부분의 반복 훈련 과정에서 변수는 `tf.train.Checkpoint.restore`가 호출된 이후에 생성됩니다.\n",
    "이러한 변수는 생성되자마자 복원될 것이므로 단언문을 통해 체크포인트가 완벽히 적재되었다는 것을 보장받을 수 있습니다.\n",
    "자세한 내용은 [훈련 체크포인트 가이드](./checkpoint.ipynb)를 참고하세요."
   ]
  },
  {
   "cell_type": "markdown",
   "metadata": {
    "id": "3yoD0VJ7qEg3"
   },
   "source": [
    "### 객체 지향형 지표\n",
    "\n",
    "`tf.keras.metrics`는 객체로 저장됩니다.\n",
    "새로운 데이터를 이 객체에 전달하여 지표를 수정하고 `tf.keras.metrics.result` 메서드를 사용해 그 결과를 얻습니다.\n",
    "예를 들어:"
   ]
  },
  {
   "cell_type": "code",
   "execution_count": 27,
   "metadata": {
    "execution": {
     "iopub.execute_input": "2020-09-23T04:00:28.313492Z",
     "iopub.status.busy": "2020-09-23T04:00:28.312877Z",
     "iopub.status.idle": "2020-09-23T04:00:28.325715Z",
     "shell.execute_reply": "2020-09-23T04:00:28.326123Z"
    },
    "id": "9ccu0iAaqEg5"
   },
   "outputs": [
    {
     "data": {
      "text/plain": [
       "<tf.Tensor: shape=(), dtype=float32, numpy=5.5>"
      ]
     },
     "execution_count": 1,
     "metadata": {},
     "output_type": "execute_result"
    }
   ],
   "source": [
    "m = tf.keras.metrics.Mean(\"loss\")\n",
    "m(0)\n",
    "m(5)\n",
    "m.result()  # => 2.5\n",
    "m([8, 9])\n",
    "m.result()  # => 5.5"
   ]
  },
  {
   "cell_type": "markdown",
   "metadata": {
    "id": "aB8qWtT955pI"
   },
   "source": [
    "### 서머리(summary)와 텐서보드\n",
    "\n",
    "[텐서보드](https://tensorflow.org/tensorboard)는 훈련과정에서 모델을 파악하거나 디버깅하고 최적화하기 위해 사용하는 시각화 도구입니다.\n",
    "텐서보드는 프로그램이 실행되는 동안 작성된 서머리 이벤트를 사용합니다.\n",
    "\n",
    "즉시 실행에서 변수의 서머리 정보를 기록하기 위해서 `tf.summary`를 사용합니다.\n",
    "예를 들어, 다음은 매 100번째 훈련마다 `loss`의 서머리 정보를 기록합니다:"
   ]
  },
  {
   "cell_type": "code",
   "execution_count": 28,
   "metadata": {
    "execution": {
     "iopub.execute_input": "2020-09-23T04:00:28.331561Z",
     "iopub.status.busy": "2020-09-23T04:00:28.330900Z",
     "iopub.status.idle": "2020-09-23T04:00:28.340741Z",
     "shell.execute_reply": "2020-09-23T04:00:28.340245Z"
    },
    "id": "z6VInqhA6RH4"
   },
   "outputs": [],
   "source": [
    "logdir = \"./tb/\"\n",
    "writer = tf.summary.create_file_writer(logdir)\n",
    "\n",
    "with writer.as_default():  # 또는 반복 전에 writer.set_as_default()를 호출\n",
    "  for i in range(1000):\n",
    "    step = i + 1\n",
    "    # 실제 훈련 함수로 손실을 계산\n",
    "    loss = 1 - 0.001 * step\n",
    "    if step % 100 == 0:\n",
    "      tf.summary.scalar('손실', loss, step=step)"
   ]
  },
  {
   "cell_type": "code",
   "execution_count": 29,
   "metadata": {
    "execution": {
     "iopub.execute_input": "2020-09-23T04:00:28.344897Z",
     "iopub.status.busy": "2020-09-23T04:00:28.344263Z",
     "iopub.status.idle": "2020-09-23T04:00:28.499727Z",
     "shell.execute_reply": "2020-09-23T04:00:28.498969Z"
    },
    "id": "08QQD2j36TaI"
   },
   "outputs": [
    {
     "name": "stdout",
     "output_type": "stream",
     "text": [
      "events.out.tfevents.1600833628.kokoro-gcp-ubuntu-prod-474855603.1490.619679.v2\r\n"
     ]
    }
   ],
   "source": [
    "!ls tb/"
   ]
  },
  {
   "cell_type": "markdown",
   "metadata": {
    "id": "xEL4yJe5qEhD"
   },
   "source": [
    "## 자동 미분 관련 고급편\n",
    "\n",
    "### 동적 모델\n",
    "\n",
    "`tf.GradientTape`는 또한 동적인 모델에서도 사용가능합니다.\n",
    "아래 예는 [역추적 길찾기](https://wikipedia.org/wiki/Backtracking_line_search) 알고리즘의 복잡한 제어 흐름에도 불구하고,\n",
    "그래디언트가 있으며 미분 가능이 하다는 것을 제외하면 일반적인 NumPy으로 작성한 코드처럼 보입니다:"
   ]
  },
  {
   "cell_type": "code",
   "execution_count": 30,
   "metadata": {
    "execution": {
     "iopub.execute_input": "2020-09-23T04:00:28.506649Z",
     "iopub.status.busy": "2020-09-23T04:00:28.505980Z",
     "iopub.status.idle": "2020-09-23T04:00:28.508622Z",
     "shell.execute_reply": "2020-09-23T04:00:28.508029Z"
    },
    "id": "L518n5dkqEhE"
   },
   "outputs": [],
   "source": [
    "def line_search_step(fn, init_x, rate=1.0):\n",
    "  with tf.GradientTape() as tape:\n",
    "    # 변수는 자동적으로 기록되지만 텐서는 사용자가 스스로 확인해야 함\n",
    "    tape.watch(init_x)\n",
    "    value = fn(init_x)\n",
    "  grad = tape.gradient(value, init_x)\n",
    "  grad_norm = tf.reduce_sum(grad * grad)\n",
    "  init_value = value\n",
    "  while value > init_value - rate * grad_norm:\n",
    "    x = init_x - rate * grad\n",
    "    value = fn(x)\n",
    "    rate /= 2.0\n",
    "  return x, value"
   ]
  },
  {
   "cell_type": "markdown",
   "metadata": {
    "id": "gieGOf_DqEhK"
   },
   "source": [
    "### 사용자 정의 그래디언트\n",
    "\n",
    "사용자 정의 그래디언트는 그래디언트를 재정의(override)하는 가장 쉬운 방법입니다.\n",
    "정방향 함수안에서 입력값 또는 출력값, 중간값과 관련된 그래디언트를 정의해야 합니다. \n",
    "예를 들어 다음은 역전파 과정에서 그래디언트의 놈(norm)을 클리핑(clip)하는 가장 쉬운 방법입니다:"
   ]
  },
  {
   "cell_type": "code",
   "execution_count": 31,
   "metadata": {
    "execution": {
     "iopub.execute_input": "2020-09-23T04:00:28.513377Z",
     "iopub.status.busy": "2020-09-23T04:00:28.512749Z",
     "iopub.status.idle": "2020-09-23T04:00:28.515208Z",
     "shell.execute_reply": "2020-09-23T04:00:28.514612Z"
    },
    "id": "-OwwsWUAqEhK"
   },
   "outputs": [],
   "source": [
    "@tf.custom_gradient\n",
    "def clip_gradient_by_norm(x, norm):\n",
    "  y = tf.identity(x)\n",
    "  def grad_fn(dresult):\n",
    "    return [tf.clip_by_norm(dresult, norm), None]\n",
    "  return y, grad_fn"
   ]
  },
  {
   "cell_type": "markdown",
   "metadata": {
    "id": "JPLDHkF_qEhN"
   },
   "source": [
    "사용자 정의 그래디언트는 일반적으로 연산에 대해 수치적으로(numerically) 안정된 그래디언트를 제공하기 위해 사용됩니다:"
   ]
  },
  {
   "cell_type": "code",
   "execution_count": 32,
   "metadata": {
    "execution": {
     "iopub.execute_input": "2020-09-23T04:00:28.520118Z",
     "iopub.status.busy": "2020-09-23T04:00:28.519440Z",
     "iopub.status.idle": "2020-09-23T04:00:28.521480Z",
     "shell.execute_reply": "2020-09-23T04:00:28.521880Z"
    },
    "id": "24WiLROnqEhO"
   },
   "outputs": [],
   "source": [
    "def log1pexp(x):\n",
    "  return tf.math.log(1 + tf.exp(x))\n",
    "\n",
    "def grad_log1pexp(x):\n",
    "  with tf.GradientTape() as tape:\n",
    "    tape.watch(x)\n",
    "    value = log1pexp(x)\n",
    "  return tape.gradient(value, x)\n"
   ]
  },
  {
   "cell_type": "code",
   "execution_count": 33,
   "metadata": {
    "execution": {
     "iopub.execute_input": "2020-09-23T04:00:28.526002Z",
     "iopub.status.busy": "2020-09-23T04:00:28.525388Z",
     "iopub.status.idle": "2020-09-23T04:00:28.530396Z",
     "shell.execute_reply": "2020-09-23T04:00:28.530815Z"
    },
    "id": "n8fq69r9-B-c"
   },
   "outputs": [
    {
     "data": {
      "text/plain": [
       "0.5"
      ]
     },
     "execution_count": 1,
     "metadata": {},
     "output_type": "execute_result"
    }
   ],
   "source": [
    "# 그래디언트 계산은 x = 0일 때 잘 동작\n",
    "grad_log1pexp(tf.constant(0.)).numpy()"
   ]
  },
  {
   "cell_type": "code",
   "execution_count": 34,
   "metadata": {
    "execution": {
     "iopub.execute_input": "2020-09-23T04:00:28.534616Z",
     "iopub.status.busy": "2020-09-23T04:00:28.533977Z",
     "iopub.status.idle": "2020-09-23T04:00:28.537772Z",
     "shell.execute_reply": "2020-09-23T04:00:28.538292Z"
    },
    "id": "_VFSU0mG-FSp"
   },
   "outputs": [
    {
     "data": {
      "text/plain": [
       "nan"
      ]
     },
     "execution_count": 1,
     "metadata": {},
     "output_type": "execute_result"
    }
   ],
   "source": [
    "# 그러나, x = 100일 때 수치적으로 불안정하기 때문에 실패\n",
    "grad_log1pexp(tf.constant(100.)).numpy()"
   ]
  },
  {
   "cell_type": "markdown",
   "metadata": {
    "id": "-VcTR34rqEhQ"
   },
   "source": [
    "여기 `log1pexp` 함수는 이론적으로 사용자 정의 그래디언트를 활용해 간결해 질 수 있습니다.\n",
    "아래 구현은 불필요한 계산을 제거함으로써 계산을 좀 더 효율적으로 하기 위해 정방향 경로안에서 계산된 `tf.exp(x)`값을 재사용합니다:"
   ]
  },
  {
   "cell_type": "code",
   "execution_count": 35,
   "metadata": {
    "execution": {
     "iopub.execute_input": "2020-09-23T04:00:28.543943Z",
     "iopub.status.busy": "2020-09-23T04:00:28.543282Z",
     "iopub.status.idle": "2020-09-23T04:00:28.545847Z",
     "shell.execute_reply": "2020-09-23T04:00:28.545274Z"
    },
    "id": "Q7nvfx_-qEhS"
   },
   "outputs": [],
   "source": [
    "@tf.custom_gradient\n",
    "def log1pexp(x):\n",
    "  e = tf.exp(x)\n",
    "  def grad(dy):\n",
    "    return dy * (1 - 1 / (1 + e))\n",
    "  return tf.math.log(1 + e), grad\n",
    "\n",
    "def grad_log1pexp(x):\n",
    "  with tf.GradientTape() as tape:\n",
    "    tape.watch(x)\n",
    "    value = log1pexp(x)\n",
    "  return tape.gradient(value, x)\n"
   ]
  },
  {
   "cell_type": "code",
   "execution_count": 36,
   "metadata": {
    "execution": {
     "iopub.execute_input": "2020-09-23T04:00:28.549648Z",
     "iopub.status.busy": "2020-09-23T04:00:28.549014Z",
     "iopub.status.idle": "2020-09-23T04:00:28.553514Z",
     "shell.execute_reply": "2020-09-23T04:00:28.553022Z"
    },
    "id": "5gHPKMfl-Kge"
   },
   "outputs": [
    {
     "data": {
      "text/plain": [
       "0.5"
      ]
     },
     "execution_count": 1,
     "metadata": {},
     "output_type": "execute_result"
    }
   ],
   "source": [
    "# 전처럼, 그래디언트 계산은 x = 0일 때 잘 동작\n",
    "grad_log1pexp(tf.constant(0.)).numpy()"
   ]
  },
  {
   "cell_type": "code",
   "execution_count": 37,
   "metadata": {
    "execution": {
     "iopub.execute_input": "2020-09-23T04:00:28.557220Z",
     "iopub.status.busy": "2020-09-23T04:00:28.556565Z",
     "iopub.status.idle": "2020-09-23T04:00:28.560467Z",
     "shell.execute_reply": "2020-09-23T04:00:28.560867Z"
    },
    "id": "u38MOfz3-MDE"
   },
   "outputs": [
    {
     "data": {
      "text/plain": [
       "1.0"
      ]
     },
     "execution_count": 1,
     "metadata": {},
     "output_type": "execute_result"
    }
   ],
   "source": [
    "# 그래디언트 계산은 x = 100일 때 역시 잘 동작\n",
    "grad_log1pexp(tf.constant(100.)).numpy()"
   ]
  },
  {
   "cell_type": "markdown",
   "metadata": {
    "id": "rnZXjfQzqEhV"
   },
   "source": [
    "## 성능\n",
    "\n",
    "즉시 실행에서 계산은 자동으로 GPU로 분배됩니다.\n",
    "만약 계산 분배를 사용자가 제어하고 싶다면 그 부분을 `tf.device('/gpu:0')` 블록 (또는 CPU도 동일)으로 감싸서 실행하세요:"
   ]
  },
  {
   "cell_type": "code",
   "execution_count": 38,
   "metadata": {
    "execution": {
     "iopub.execute_input": "2020-09-23T04:00:28.570208Z",
     "iopub.status.busy": "2020-09-23T04:00:28.569217Z",
     "iopub.status.idle": "2020-09-23T04:00:29.674986Z",
     "shell.execute_reply": "2020-09-23T04:00:29.675410Z"
    },
    "id": "Ac9Y64H-qEhX"
   },
   "outputs": [
    {
     "name": "stdout",
     "output_type": "stream",
     "text": [
      "(1000, 1000) 크기 행렬을 자기 자신과 200번 곱했을 때 걸리는 시간:\n",
      "CPU: 0.9988868236541748 초\n",
      "GPU: 0.04148411750793457 초\n"
     ]
    }
   ],
   "source": [
    "import time\n",
    "\n",
    "def measure(x, steps):\n",
    "  # 텐서플로는 처음 사용할 때 GPU를 초기화, 시간계산에서 제외\n",
    "  tf.matmul(x, x)\n",
    "  start = time.time()\n",
    "  for i in range(steps):\n",
    "    x = tf.matmul(x, x)\n",
    "  # tf.matmul는 행렬 곱셈을 완료하기 전에 결과를 반환할 수 있습니다\n",
    "  # (예, CUDA 스트림 대기열에 연산을 추가한 후에 결과를 반환할 수 있다).\n",
    "  # 아래 x.numpy() 호출은 대기열에 추가된 모든 연산이 완료될 것임을 보장합니다\n",
    "  # (그리고 그 결과가 호스트 메모리에 복사될 것이고,\n",
    "  # 그래서 matnul 연산시간보다는 조금 많은 연산시간이\n",
    "  # 포함됩니다).\n",
    "  _ = x.numpy()\n",
    "  end = time.time()\n",
    "  return end - start\n",
    "\n",
    "shape = (1000, 1000)\n",
    "steps = 200\n",
    "print(\"{} 크기 행렬을 자기 자신과 {}번 곱했을 때 걸리는 시간:\".format(shape, steps))\n",
    "\n",
    "# CPU에서 실행:\n",
    "with tf.device(\"/cpu:0\"):\n",
    "  print(\"CPU: {} 초\".format(measure(tf.random.normal(shape), steps)))\n",
    "\n",
    "# GPU에서 실행, 가능하다면:\n",
    "if tf.config.experimental.list_physical_devices(\"GPU\"):\n",
    "  with tf.device(\"/gpu:0\"):\n",
    "    print(\"GPU: {} 초\".format(measure(tf.random.normal(shape), steps)))\n",
    "else:\n",
    "  print(\"GPU: 없음\")"
   ]
  },
  {
   "cell_type": "markdown",
   "metadata": {
    "id": "RLw3IS7UqEhe"
   },
   "source": [
    "`tf.Tensor` 객체는 실제로 그 연산을 수행할 다른 디바이스로 복사될 수 있습니다:"
   ]
  },
  {
   "cell_type": "code",
   "execution_count": 39,
   "metadata": {
    "execution": {
     "iopub.execute_input": "2020-09-23T04:00:29.681299Z",
     "iopub.status.busy": "2020-09-23T04:00:29.680414Z",
     "iopub.status.idle": "2020-09-23T04:00:29.685525Z",
     "shell.execute_reply": "2020-09-23T04:00:29.685025Z"
    },
    "id": "ny6LX2BVqEhf"
   },
   "outputs": [
    {
     "name": "stdout",
     "output_type": "stream",
     "text": [
      "WARNING:tensorflow:From <ipython-input-1-1f06022e54e9>:4: _EagerTensorBase.gpu (from tensorflow.python.framework.ops) is deprecated and will be removed in a future version.\n",
      "Instructions for updating:\n",
      "Use tf.identity instead.\n",
      "WARNING:tensorflow:From <ipython-input-1-1f06022e54e9>:5: _EagerTensorBase.cpu (from tensorflow.python.framework.ops) is deprecated and will be removed in a future version.\n",
      "Instructions for updating:\n",
      "Use tf.identity instead.\n"
     ]
    }
   ],
   "source": [
    "if tf.config.experimental.list_physical_devices(\"GPU\"):\n",
    "  x = tf.random.normal([10, 10])\n",
    "\n",
    "  x_gpu0 = x.gpu()\n",
    "  x_cpu = x.cpu()\n",
    "\n",
    "  _ = tf.matmul(x_cpu, x_cpu)    # CPU에서 실행\n",
    "  _ = tf.matmul(x_gpu0, x_gpu0)  # GPU:0에서 실행"
   ]
  },
  {
   "cell_type": "markdown",
   "metadata": {
    "id": "oA_qaII3-p6c"
   },
   "source": [
    "### 벤치마크\n",
    "\n",
    "GPU에서 학습을 하는 [ResNet50](https://github.com/tensorflow/tensorflow/tree/master/tensorflow/contrib/eager/python/examples/resnet50) 같은 계산량이 많은 모델에서,\n",
    "즉시 실행 성능은 `tf.function` 실행과 비교될 수 있습니다.\n",
    "그러나 이러한 차이는 계산량이 작은 모델인 경우 더 커지고, 수많은 작은 연산으로 구성된 모델은 자주 반복되는 부분을 최적화하는 사례도 있습니다.\n",
    "\n",
    "## 함수를 활용\n",
    "\n",
    "즉시 실행이 개발과 디버깅 과정을 좀 더 대화형(interactive)으로 만들어 주지만\n",
    "텐서플로 1.x 형태 그래프 실행은 학습의 분산과 성능, 운영 배포에 장점을 가지고 있습니다.\n",
    "이러한 차이를 해소하기 위해서, 텐서플로 2.0에서는 `tf.function` API를 도입했습니다.\n",
    "자세한 내용은 [tf.function](./function.ipynb) 가이드를 참고하세요."
   ]
  }
 ],
 "metadata": {
  "accelerator": "GPU",
  "colab": {
   "collapsed_sections": [],
   "name": "eager.ipynb",
   "toc_visible": true
  },
  "kernelspec": {
   "display_name": "Python 3",
   "language": "python",
   "name": "python3"
  },
  "language_info": {
   "codemirror_mode": {
    "name": "ipython",
    "version": 3
   },
   "file_extension": ".py",
   "mimetype": "text/x-python",
   "name": "python",
   "nbconvert_exporter": "python",
   "pygments_lexer": "ipython3",
   "version": "3.8.8"
  }
 },
 "nbformat": 4,
 "nbformat_minor": 1
}
